{
 "cells": [
  {
   "cell_type": "code",
   "execution_count": 20,
   "metadata": {},
   "outputs": [
    {
     "name": "stdout",
     "output_type": "stream",
     "text": [
      "The autoreload extension is already loaded. To reload it, use:\n",
      "  %reload_ext autoreload\n"
     ]
    }
   ],
   "source": [
    "import numpy as np\n",
    "import scipy\n",
    "import pandas as pd\n",
    "import utils\n",
    "from utils import HouseHolder, QR, SVD,pic_deblur\n",
    "import scipy.io\n",
    "import scipy.linalg\n",
    "from PIL import Image\n",
    "from numpy import asarray\n",
    "from matplotlib import image\n",
    "from matplotlib import pyplot as plt\n",
    "import time\n",
    "from sklearn import preprocessing\n",
    "\n",
    "%load_ext autoreload\n",
    "%autoreload 2"
   ]
  },
  {
   "cell_type": "code",
   "execution_count": 7,
   "metadata": {},
   "outputs": [],
   "source": [
    "#read the pricture\n",
    "def open_picture(size:str,name:str):\n",
    "    path = './test_images/'+size+'_'+size+'_'+name \n",
    "    try:   \n",
    "        im = Image.open(path+'.png')\n",
    "    except:\n",
    "        im = Image.open(path+'.jpg')      \n",
    "    img = np.array(im)\n",
    "    img = img.astype(np.float64) / 255\n",
    "    return img"
   ]
  },
  {
   "cell_type": "code",
   "execution_count": 29,
   "metadata": {},
   "outputs": [],
   "source": [
    "def working_procee(size,name,blur_type,power,trunc,deblur_tpye):\n",
    "    img_data = open_picture(size,name)\n",
    "    #plt.imshow(img_data)\n",
    "    blur_kernel,blur_data = pic_deblur.blur_picture(img_data,blur_type,power)\n",
    "    begin = time.time()\n",
    "    deblur_data,psnr,time_svd = pic_deblur.deblur_picture(blur_kernel,blur_data,trunc,deblur_tpye)\n",
    "    time_used = time.time()-begin\n",
    "    data = [img_data,blur_data,deblur_data]\n",
    "    result_df = pd.DataFrame()\n",
    "    result_df['time_used_for_deblurring'] = [time_used]\n",
    "    result_df['average_psnr'] = [psnr]\n",
    "    result_df['time_used_for_svd_l'] = [time_svd[0]]\n",
    "    result_df['time_used_for_svd_r'] = [time_svd[1]]\n",
    "    return data,blur_kernel,result_df"
   ]
  },
  {
   "cell_type": "code",
   "execution_count": 30,
   "metadata": {},
   "outputs": [
    {
     "name": "stdout",
     "output_type": "stream",
     "text": [
      "[2.149297965238349, 6.120629242828923, 15.105140602270806]\n",
      "[10.257902145385742, 9.178211212158203]\n"
     ]
    },
    {
     "data": {
      "text/html": [
       "<div>\n",
       "<style scoped>\n",
       "    .dataframe tbody tr th:only-of-type {\n",
       "        vertical-align: middle;\n",
       "    }\n",
       "\n",
       "    .dataframe tbody tr th {\n",
       "        vertical-align: top;\n",
       "    }\n",
       "\n",
       "    .dataframe thead th {\n",
       "        text-align: right;\n",
       "    }\n",
       "</style>\n",
       "<table border=\"1\" class=\"dataframe\">\n",
       "  <thead>\n",
       "    <tr style=\"text-align: right;\">\n",
       "      <th></th>\n",
       "      <th>time_used_for_deblurring</th>\n",
       "      <th>average_psnr</th>\n",
       "      <th>time_used_for_svd_l</th>\n",
       "      <th>time_used_for_svd_r</th>\n",
       "    </tr>\n",
       "  </thead>\n",
       "  <tbody>\n",
       "    <tr>\n",
       "      <th>0</th>\n",
       "      <td>21.386546</td>\n",
       "      <td>7.791689</td>\n",
       "      <td>10.257902</td>\n",
       "      <td>9.178211</td>\n",
       "    </tr>\n",
       "  </tbody>\n",
       "</table>\n",
       "</div>"
      ],
      "text/plain": [
       "   time_used_for_deblurring  average_psnr  time_used_for_svd_l  \\\n",
       "0                 21.386546      7.791689            10.257902   \n",
       "\n",
       "   time_used_for_svd_r  \n",
       "0             9.178211  "
      ]
     },
     "execution_count": 30,
     "metadata": {},
     "output_type": "execute_result"
    }
   ],
   "source": [
    "data,blur_kernel,result_df = working_procee('512','ducks',['gaussian','gaussian'],[20,40],140,[1,1])\n",
    "result_df"
   ]
  }
 ],
 "metadata": {
  "kernelspec": {
   "display_name": "base",
   "language": "python",
   "name": "python3"
  },
  "language_info": {
   "codemirror_mode": {
    "name": "ipython",
    "version": 3
   },
   "file_extension": ".py",
   "mimetype": "text/x-python",
   "name": "python",
   "nbconvert_exporter": "python",
   "pygments_lexer": "ipython3",
   "version": "3.9.7 (default, Sep 16 2021, 16:59:28) [MSC v.1916 64 bit (AMD64)]"
  },
  "orig_nbformat": 4,
  "vscode": {
   "interpreter": {
    "hash": "16ef3e8b2bd183aa8d291da52723f387131fa4ec5eafd98310d7c0d336ceaf1b"
   }
  }
 },
 "nbformat": 4,
 "nbformat_minor": 2
}
