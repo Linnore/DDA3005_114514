{
 "cells": [
  {
   "cell_type": "code",
   "execution_count": 41,
   "metadata": {},
   "outputs": [
    {
     "name": "stdout",
     "output_type": "stream",
     "text": [
      "The autoreload extension is already loaded. To reload it, use:\n",
      "  %reload_ext autoreload\n"
     ]
    }
   ],
   "source": [
    "import numpy as np\n",
    "import scipy\n",
    "import utils\n",
    "from utils import HouseHolder, QR, SVD,pic_deblur\n",
    "import scipy.io\n",
    "import scipy.linalg\n",
    "from PIL import Image\n",
    "from numpy import asarray\n",
    "from matplotlib import image\n",
    "from matplotlib import pyplot as plt\n",
    "import time\n",
    "\n",
    "%load_ext autoreload\n",
    "%autoreload 2"
   ]
  },
  {
   "cell_type": "code",
   "execution_count": 43,
   "metadata": {},
   "outputs": [],
   "source": [
    "#read the pricture\n",
    "def open_picture(size:str,name:str):\n",
    "    path = './test_images/'+size+'_'+size+'_'+name    \n",
    "    im = Image.open(path+'.jpg')\n",
    "    img = np.array(im)\n",
    "    img = img.astype(np.float64) / 255\n",
    "    return img\n"
   ]
  },
  {
   "cell_type": "code",
   "execution_count": 47,
   "metadata": {},
   "outputs": [],
   "source": [
    "def working_procee(size,name,power,trunc):\n",
    "    img_data = open_picture(size,name)\n",
    "    #plt.imshow(img_data)\n",
    "    blur_kernel_l,blur_kernel_r,blur_data = pic_deblur.blur_picture(img_data,blur_type='tridiagonal',power_l=power,power_r=power)\n",
    "    begin = time.time()\n",
    "    deblur_data,psnr = pic_deblur.deblur_picture(blur_kernel_l,blur_kernel_r,blur_data,trunc)\n",
    "    time_used = time.time()-begin\n",
    "    data = [img_data,blur_data,deblur_data]\n",
    "    kernel = [blur_kernel_l,blur_kernel_r]\n",
    "    return time_used,psnr,data,kernel"
   ]
  },
  {
   "cell_type": "code",
   "execution_count": 49,
   "metadata": {},
   "outputs": [],
   "source": [
    "time_used,psnr,data,kernel = working_procee('1024','coffee',66,333)"
   ]
  }
 ],
 "metadata": {
  "kernelspec": {
   "display_name": "Python 3.9.7 ('base')",
   "language": "python",
   "name": "python3"
  },
  "language_info": {
   "codemirror_mode": {
    "name": "ipython",
    "version": 3
   },
   "file_extension": ".py",
   "mimetype": "text/x-python",
   "name": "python",
   "nbconvert_exporter": "python",
   "pygments_lexer": "ipython3",
   "version": "3.9.7"
  },
  "orig_nbformat": 4,
  "vscode": {
   "interpreter": {
    "hash": "7a5152ad0efa82a444bbb7b5b09330ae1eae37d6d488966c94b24f2df6242daa"
   }
  }
 },
 "nbformat": 4,
 "nbformat_minor": 2
}
