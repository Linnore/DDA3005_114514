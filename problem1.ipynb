{
 "cells": [
  {
   "cell_type": "code",
   "execution_count": 21,
   "metadata": {},
   "outputs": [
    {
     "name": "stdout",
     "output_type": "stream",
     "text": [
      "The autoreload extension is already loaded. To reload it, use:\n",
      "  %reload_ext autoreload\n"
     ]
    }
   ],
   "source": [
    "import numpy as np\n",
    "import scipy\n",
    "from utils.SVD import svd_phaseI, svd_phaseIIA, svd, eigh_by_QR\n",
    "\n",
    "%load_ext autoreload\n",
    "%autoreload 2"
   ]
  },
  {
   "cell_type": "markdown",
   "metadata": {},
   "source": [
    "# Problem 1: SVD by Two-Phase Approach"
   ]
  },
  {
   "cell_type": "markdown",
   "metadata": {},
   "source": [
    "## Phase-I: Golub-Kahan Bidiagonalization"
   ]
  },
  {
   "cell_type": "code",
   "execution_count": 22,
   "metadata": {},
   "outputs": [
    {
     "name": "stdout",
     "output_type": "stream",
     "text": [
      "[[-2.23606798e+00  2.04939015e+00 -9.45175510e-17]\n",
      " [ 1.11022302e-16  8.39500986e-01 -5.07346289e-01]\n",
      " [ 0.00000000e+00 -2.67014343e-18 -1.19118383e+00]]\n"
     ]
    }
   ],
   "source": [
    "A = np.array([[1, 0, 1],\n",
    "              [2, 5**.5, 0],\n",
    "              [0, 0, 1],\n",
    "              [0, 0, 1]])\n",
    "B, Q, P = svd_phaseI(A)\n",
    "print(B)\n"
   ]
  },
  {
   "cell_type": "markdown",
   "metadata": {},
   "source": [
    "Todo: We may not need to form the reflection matrix H explicitly during Golub-Kahan bidiagonalization."
   ]
  },
  {
   "cell_type": "markdown",
   "metadata": {},
   "source": [
    "## Phase-II-A"
   ]
  },
  {
   "cell_type": "code",
   "execution_count": 23,
   "metadata": {},
   "outputs": [
    {
     "data": {
      "text/plain": [
       "(array([0.30237984, 1.73207775, 9.5466235 ]),\n",
       " array([[-0.68170526, -0.17908351,  0.70937087],\n",
       "        [-0.69881931, -0.12770787, -0.70380557],\n",
       "        [-0.21663221,  0.97551002,  0.03808789]]))"
      ]
     },
     "execution_count": 23,
     "metadata": {},
     "output_type": "execute_result"
    }
   ],
   "source": [
    "T, Q = eigh_by_QR(B.T@B)\n",
    "T, Q"
   ]
  },
  {
   "cell_type": "code",
   "execution_count": 24,
   "metadata": {},
   "outputs": [
    {
     "data": {
      "text/plain": [
       "(array([0.30237984, 1.73207775, 9.5466235 ]),\n",
       " array([[-0.68170526, -0.17908351,  0.70937087],\n",
       "        [-0.69881931, -0.12770787, -0.70380557],\n",
       "        [-0.21663221,  0.97551002,  0.03808789]]))"
      ]
     },
     "execution_count": 24,
     "metadata": {},
     "output_type": "execute_result"
    }
   ],
   "source": [
    "scipy.linalg.eigh(B.T@B)"
   ]
  },
  {
   "cell_type": "markdown",
   "metadata": {},
   "source": [
    "**Test SVD**"
   ]
  },
  {
   "cell_type": "code",
   "execution_count": 31,
   "metadata": {},
   "outputs": [
    {
     "data": {
      "text/plain": [
       "(array([[-0.61498971,  0.72937873,  0.21910421],\n",
       "        [-0.36207877, -0.50746338,  0.77432904],\n",
       "        [ 0.70049027,  0.37804764,  0.59260629]]),\n",
       " array([3.08976107, 1.31608425, 0.54989075]),\n",
       " array([[ 0.70937087, -0.17908351, -0.68170526],\n",
       "        [ 0.69515536,  0.33750386,  0.63470479],\n",
       "        [ 0.116413  , -0.92413216,  0.36390627]]))"
      ]
     },
     "execution_count": 31,
     "metadata": {},
     "output_type": "execute_result"
    }
   ],
   "source": [
    "svd(A)"
   ]
  },
  {
   "cell_type": "code",
   "execution_count": 32,
   "metadata": {},
   "outputs": [
    {
     "data": {
      "text/plain": [
       "(array([[-0.26444298,  0.60575682,  0.75041894],\n",
       "        [-0.96312812, -0.2058522 , -0.17323137],\n",
       "        [-0.03502958,  0.54345356, -0.45103343],\n",
       "        [-0.03502958,  0.54345356, -0.45103343]]),\n",
       " array([3.09016724, 1.76483518, 0.5798476 ]),\n",
       " array([[-0.70892578, -0.69692666, -0.10824726],\n",
       "        [ 0.10995498, -0.26081728,  0.95910596],\n",
       "        [ 0.69665927, -0.66803262, -0.26153065]]))"
      ]
     },
     "execution_count": 32,
     "metadata": {},
     "output_type": "execute_result"
    }
   ],
   "source": [
    "scipy.linalg.svd(A, full_matrices=False)"
   ]
  },
  {
   "cell_type": "markdown",
   "metadata": {},
   "source": []
  }
 ],
 "metadata": {
  "kernelspec": {
   "display_name": "Python 3.9.7 ('base')",
   "language": "python",
   "name": "python3"
  },
  "language_info": {
   "codemirror_mode": {
    "name": "ipython",
    "version": 3
   },
   "file_extension": ".py",
   "mimetype": "text/x-python",
   "name": "python",
   "nbconvert_exporter": "python",
   "pygments_lexer": "ipython3",
   "version": "3.9.7"
  },
  "orig_nbformat": 4,
  "vscode": {
   "interpreter": {
    "hash": "16ef3e8b2bd183aa8d291da52723f387131fa4ec5eafd98310d7c0d336ceaf1b"
   }
  }
 },
 "nbformat": 4,
 "nbformat_minor": 2
}
