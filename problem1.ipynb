{
 "cells": [
  {
   "cell_type": "code",
   "execution_count": 1,
   "metadata": {},
   "outputs": [],
   "source": [
    "import numpy as np\n",
    "import scipy\n",
    "import utils\n",
    "from time import time\n",
    "from utils import QR_Factorization, EVD, SVD, Bidiagonal_fastMult\n",
    "\n",
    "%load_ext autoreload\n",
    "%autoreload 2"
   ]
  },
  {
   "cell_type": "markdown",
   "metadata": {},
   "source": [
    "# Problem 1: SVD by Two-Phase Approach"
   ]
  },
  {
   "cell_type": "markdown",
   "metadata": {},
   "source": [
    "## Phase-I: Golub-Kahan Bidiagonalization"
   ]
  },
  {
   "cell_type": "code",
   "execution_count": 2,
   "metadata": {},
   "outputs": [
    {
     "name": "stdout",
     "output_type": "stream",
     "text": [
      "[[ 2. -5.  0.  0.]\n",
      " [ 0.  0.  0.  0.]\n",
      " [ 0.  0. -1.  0.]\n",
      " [ 0.  0.  0.  0.]\n",
      " [ 0.  0.  0.  0.]\n",
      " [ 0.  0.  0.  0.]\n",
      " [ 0.  0.  0.  0.]]\n"
     ]
    }
   ],
   "source": [
    "A = np.array([[0, 0, 0, 0],\n",
    "              [0, 0, 0, 0],\n",
    "              [0, 0, 1, 0],\n",
    "              [0, 0, 0, 0],\n",
    "              [2, 5, 0, 0],\n",
    "              [0, 0, 0, 0],\n",
    "              [0, 0, 0, 0]], dtype=np.float64)\n",
    "B, Qt, P = SVD.svd_phaseI(A)\n",
    "print(B)\n"
   ]
  },
  {
   "attachments": {},
   "cell_type": "markdown",
   "metadata": {},
   "source": [
    "## Phase-II"
   ]
  },
  {
   "cell_type": "code",
   "execution_count": 3,
   "metadata": {},
   "outputs": [],
   "source": [
    "m = n = 1024\n",
    "A = np.random.rand(m,n)"
   ]
  },
  {
   "attachments": {},
   "cell_type": "markdown",
   "metadata": {},
   "source": [
    "**Test Fast Multiplication for A@B, where B is upper bidiagonal matrix.**"
   ]
  },
  {
   "attachments": {},
   "cell_type": "markdown",
   "metadata": {},
   "source": [
    "Numpy @ might use multi-thread to accelerate the computation. But our implementation is O(n^2) which is theoretically more effcient."
   ]
  },
  {
   "cell_type": "code",
   "execution_count": 4,
   "metadata": {},
   "outputs": [],
   "source": [
    "B, _, _ = SVD.svd_phaseI(A)"
   ]
  },
  {
   "attachments": {},
   "cell_type": "markdown",
   "metadata": {},
   "source": [
    "Test for `fastMult_upper_bidiagonal`"
   ]
  },
  {
   "cell_type": "code",
   "execution_count": 5,
   "metadata": {},
   "outputs": [
    {
     "name": "stdout",
     "output_type": "stream",
     "text": [
      "18.4201s\n"
     ]
    }
   ],
   "source": [
    "numpy_mul_begin = time()\n",
    "for i in range(1000):\n",
    "    A@B\n",
    "numpy_mul_end = time()\n",
    "print(\"{:.4f}s\".format(numpy_mul_end - numpy_mul_begin))"
   ]
  },
  {
   "cell_type": "code",
   "execution_count": 6,
   "metadata": {},
   "outputs": [
    {
     "name": "stdout",
     "output_type": "stream",
     "text": [
      "24.0754s\n"
     ]
    }
   ],
   "source": [
    "fastMul_begin = time()\n",
    "for i in range(1000):\n",
    "    Bidiagonal_fastMult.fastMult_upper_bidiagonal(A, B)\n",
    "fastMul_end = time()\n",
    "print(\"{:.4f}s\".format(fastMul_end - fastMul_begin))"
   ]
  },
  {
   "attachments": {},
   "cell_type": "markdown",
   "metadata": {},
   "source": [
    "Test for `upper_fastMult_lower_bidiagonal`\n"
   ]
  },
  {
   "cell_type": "code",
   "execution_count": 7,
   "metadata": {},
   "outputs": [
    {
     "name": "stdout",
     "output_type": "stream",
     "text": [
      "13.7348s\n"
     ]
    }
   ],
   "source": [
    "numpy_mul_begin = time()\n",
    "for i in range(1000):\n",
    "    B@B.T\n",
    "numpy_mul_end = time()\n",
    "print(\"{:.4f}s\".format(numpy_mul_end - numpy_mul_begin))"
   ]
  },
  {
   "cell_type": "code",
   "execution_count": 8,
   "metadata": {},
   "outputs": [
    {
     "name": "stdout",
     "output_type": "stream",
     "text": [
      "7.7112s\n"
     ]
    }
   ],
   "source": [
    "fastMul_begin = time()\n",
    "for i in range(1000):\n",
    "    Bidiagonal_fastMult.upper_fastMult_lower_bidiagonal(B, B.T)\n",
    "fastMul_end = time()\n",
    "print(\"{:.4f}s\".format(fastMul_end - fastMul_begin))"
   ]
  },
  {
   "attachments": {},
   "cell_type": "markdown",
   "metadata": {},
   "source": [
    "Test for `qr_tridiagonal_by_Givens` and `qr_lower_bidiagonal_by_Givens`"
   ]
  },
  {
   "cell_type": "code",
   "execution_count": 9,
   "metadata": {},
   "outputs": [
    {
     "name": "stdout",
     "output_type": "stream",
     "text": [
      "3.6617s\n"
     ]
    }
   ],
   "source": [
    "begin = time()\n",
    "for i in range(100):\n",
    "    QR_Factorization.qr_tridiagonal_by_Givens(B.T, return_Givens=True)\n",
    "end = time()\n",
    "print(\"{:.4f}s\".format(end-begin))"
   ]
  },
  {
   "cell_type": "code",
   "execution_count": 10,
   "metadata": {},
   "outputs": [
    {
     "name": "stdout",
     "output_type": "stream",
     "text": [
      "0.9985s\n"
     ]
    }
   ],
   "source": [
    "begin = time()\n",
    "for i in range(100):\n",
    "    QR_Factorization.qr_lower_bidiagonal_by_Givens(B.T, return_Givens=True)\n",
    "end = time()\n",
    "print(\"{:.4f}s\".format(end-begin))"
   ]
  },
  {
   "cell_type": "markdown",
   "metadata": {},
   "source": [
    "**Test SVD**"
   ]
  },
  {
   "attachments": {},
   "cell_type": "markdown",
   "metadata": {},
   "source": [
    "Choose the parameter phaseII as 'A', 'B1', 'B2' to test different implementations of phase II"
   ]
  },
  {
   "cell_type": "code",
   "execution_count": 11,
   "metadata": {},
   "outputs": [],
   "source": [
    "m = 150\n",
    "n = 150\n",
    "A = np.random.rand(m,n)\n",
    "A[n-50:n] = A[n-50:n] * 1000"
   ]
  },
  {
   "cell_type": "code",
   "execution_count": 12,
   "metadata": {},
   "outputs": [
    {
     "name": "stdout",
     "output_type": "stream",
     "text": [
      "phaseI: 0.0374s\n",
      "phaseII: 0.4317s\n",
      "Percentage of entrices successfully recovered by SVD with accuracy: 1e-08\n",
      "100.0 %\n"
     ]
    }
   ],
   "source": [
    "U, S, Vt = SVD.svd(A, phaseII='A')\n",
    "# U, S, Vt = SVD.svd(A, phaseII='B1')\n",
    "# U, S, Vt = SVD.svd(A, phaseII='B2')\n",
    "# U, S, Vt = SVD.svd(A, phaseII='C')\n",
    "\n",
    "acc = 1e-8\n",
    "print(\"Percentage of entrices successfully recovered by SVD with accuracy: {}\".format(acc))\n",
    "print(np.sum(np.abs(U@np.diag(S)@Vt - A)< acc) / (n*m) * 100, \"%\")"
   ]
  },
  {
   "cell_type": "code",
   "execution_count": 13,
   "metadata": {},
   "outputs": [
    {
     "name": "stdout",
     "output_type": "stream",
     "text": [
      "phaseI: 0.0214s\n",
      "phaseII: 5.2051s\n",
      "Percentage of entrices successfully recovered by SVD with accuracy: 1e-08\n",
      "100.0 %\n"
     ]
    }
   ],
   "source": [
    "# U, S, Vt = SVD.svd(A, phaseII='A')\n",
    "# U, S, Vt = SVD.svd(A, phaseII='B1')\n",
    "U, S, Vt = SVD.svd(A, phaseII='B2')\n",
    "# U, S, Vt = SVD.svd(A, phaseII='C')\n",
    "\n",
    "acc = 1e-8\n",
    "print(\"Percentage of entrices successfully recovered by SVD with accuracy: {}\".format(acc))\n",
    "print(np.sum(np.abs(U@np.diag(S)@Vt - A)< acc) / (n*m) * 100, \"%\")"
   ]
  },
  {
   "attachments": {},
   "cell_type": "markdown",
   "metadata": {},
   "source": [
    "**Accuracy Test:**"
   ]
  },
  {
   "attachments": {},
   "cell_type": "markdown",
   "metadata": {},
   "source": [
    "Modify acc as you like!"
   ]
  },
  {
   "cell_type": "code",
   "execution_count": 14,
   "metadata": {},
   "outputs": [
    {
     "name": "stdout",
     "output_type": "stream",
     "text": [
      "Percentage of entrices successfully recovered by SVD with accuracy: 1e-08\n",
      "100.0 %\n"
     ]
    }
   ],
   "source": [
    "acc = 1e-8\n",
    "print(\"Percentage of entrices successfully recovered by SVD with accuracy: {}\".format(acc))\n",
    "print(np.sum(np.abs(U@np.diag(S)@Vt - A)< acc) / (n*m) * 100, \"%\")"
   ]
  },
  {
   "cell_type": "markdown",
   "metadata": {},
   "source": [
    "**Scipy SVD**"
   ]
  },
  {
   "cell_type": "code",
   "execution_count": 15,
   "metadata": {},
   "outputs": [
    {
     "name": "stdout",
     "output_type": "stream",
     "text": [
      "Percentage of entrices successfully recovered by SVD with accuracy: 1e-08\n",
      "100.0 %\n"
     ]
    }
   ],
   "source": [
    "U, S, Vt  = scipy.linalg.svd(A, full_matrices=False)\n",
    "# print(np.abs(U@np.diag(S)@Vt - A))\n",
    "acc = 1e-8\n",
    "print(\"Percentage of entrices successfully recovered by SVD with accuracy: {}\".format(acc))\n",
    "print(np.sum(np.abs(U@np.diag(S)@Vt - A)< acc) / (n*m) * 100, \"%\")\n",
    "# U, S, Vt"
   ]
  },
  {
   "cell_type": "markdown",
   "metadata": {},
   "source": [
    "## Test for p2"
   ]
  },
  {
   "attachments": {},
   "cell_type": "markdown",
   "metadata": {},
   "source": [
    "### Important note! \n",
    "Phase 2B-optional requires higher convergence standard, i.e. tol=1e-15, to generate sufficient accurate SVD. In comparison, Phase-2A and Phase-2B use tol=1e-8."
   ]
  },
  {
   "cell_type": "code",
   "execution_count": 16,
   "metadata": {},
   "outputs": [
    {
     "name": "stdout",
     "output_type": "stream",
     "text": [
      "phaseI: 11.4141s\n",
      "phaseII: 9.3148s\n",
      "Percentage of entrices successfully recovered by SVD with accuracy: 1e-08\n",
      "100.0 %\n"
     ]
    }
   ],
   "source": [
    "m = n = 1024\n",
    "k = 100\n",
    "A = np.array(np.diag([1/2]*n, 0)+np.diag([3/8]*(n-1), 1)+np.diag([1/8]*(n-1), -1))\n",
    "\n",
    "A = np.linalg.matrix_power(A, k)\n",
    "U, S, Vt = SVD.svd(A, phaseII=\"B2\")\n",
    "# U, S, Vt = scipy.linalg.svd(A)\n",
    "acc = 1e-8\n",
    "print(\"Percentage of entrices successfully recovered by SVD with accuracy: {}\".format(acc))\n",
    "print(np.sum(np.abs(U@np.diag(S)@Vt - A)< acc) / (n*m) * 100, \"%\")"
   ]
  },
  {
   "attachments": {},
   "cell_type": "markdown",
   "metadata": {},
   "source": [
    "Modify acc as you like!"
   ]
  },
  {
   "cell_type": "code",
   "execution_count": 17,
   "metadata": {},
   "outputs": [
    {
     "name": "stdout",
     "output_type": "stream",
     "text": [
      "Percentage of entrices successfully recovered by SVD with accuracy: 1e-08\n",
      "100.0 %\n"
     ]
    }
   ],
   "source": [
    "acc = 1e-8\n",
    "print(\"Percentage of entrices successfully recovered by SVD with accuracy: {}\".format(acc))\n",
    "print(np.sum(np.abs(U@np.diag(S)@Vt - A)< acc) / (n*m) * 100, \"%\")"
   ]
  }
 ],
 "metadata": {
  "kernelspec": {
   "display_name": "Python 3.9.7 ('base')",
   "language": "python",
   "name": "python3"
  },
  "language_info": {
   "codemirror_mode": {
    "name": "ipython",
    "version": 3
   },
   "file_extension": ".py",
   "mimetype": "text/x-python",
   "name": "python",
   "nbconvert_exporter": "python",
   "pygments_lexer": "ipython3",
   "version": "3.9.7"
  },
  "orig_nbformat": 4,
  "vscode": {
   "interpreter": {
    "hash": "16ef3e8b2bd183aa8d291da52723f387131fa4ec5eafd98310d7c0d336ceaf1b"
   }
  }
 },
 "nbformat": 4,
 "nbformat_minor": 2
}
