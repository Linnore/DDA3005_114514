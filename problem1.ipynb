{
 "cells": [
  {
   "cell_type": "code",
   "execution_count": 7,
   "metadata": {},
   "outputs": [
    {
     "name": "stdout",
     "output_type": "stream",
     "text": [
      "The autoreload extension is already loaded. To reload it, use:\n",
      "  %reload_ext autoreload\n"
     ]
    }
   ],
   "source": [
    "import numpy as np\n",
    "import scipy.linalg\n",
    "import utils\n",
    "from time import time\n",
    "from utils import QR_Factorization, EVD, SVD, Bidiagonal_fastMult\n",
    "np.set_printoptions(precision=7)\n",
    "%load_ext autoreload\n",
    "%autoreload 2"
   ]
  },
  {
   "cell_type": "markdown",
   "metadata": {},
   "source": [
    "# Problem 1: SVD by Two-Phase Approach"
   ]
  },
  {
   "cell_type": "markdown",
   "metadata": {},
   "source": [
    "## Phase-I: Golub-Kahan Bidiagonalization"
   ]
  },
  {
   "cell_type": "code",
   "execution_count": 8,
   "metadata": {},
   "outputs": [
    {
     "name": "stdout",
     "output_type": "stream",
     "text": [
      "[[ 2. -5.  0.  0.]\n",
      " [ 0.  0.  0.  0.]\n",
      " [ 0.  0. -1.  0.]\n",
      " [ 0.  0.  0.  0.]\n",
      " [ 0.  0.  0.  0.]\n",
      " [ 0.  0.  0.  0.]\n",
      " [ 0.  0.  0.  0.]]\n"
     ]
    }
   ],
   "source": [
    "A = np.array([[0, 0, 0, 0],\n",
    "              [0, 0, 0, 0],\n",
    "              [0, 0, 1, 0],\n",
    "              [0, 0, 0, 0],\n",
    "              [2, 5, 0, 0],\n",
    "              [0, 0, 0, 0],\n",
    "              [0, 0, 0, 0]], dtype=np.float64)\n",
    "B, Qt, P = SVD.svd_phaseI(A)\n",
    "print(B)\n"
   ]
  },
  {
   "attachments": {},
   "cell_type": "markdown",
   "metadata": {},
   "source": [
    "## Phase-II"
   ]
  },
  {
   "cell_type": "code",
   "execution_count": 9,
   "metadata": {},
   "outputs": [],
   "source": [
    "m = n = 1024\n",
    "A = np.random.rand(m,n)"
   ]
  },
  {
   "attachments": {},
   "cell_type": "markdown",
   "metadata": {},
   "source": [
    "**Test Fast Multiplication for A@B, where B is upper bidiagonal matrix.**"
   ]
  },
  {
   "attachments": {},
   "cell_type": "markdown",
   "metadata": {},
   "source": [
    "Numpy @ might use multi-thread to accelerate the computation. But our implementation is O(n^2) which is theoretically more effcient."
   ]
  },
  {
   "cell_type": "code",
   "execution_count": 10,
   "metadata": {},
   "outputs": [],
   "source": [
    "B, _, _ = SVD.svd_phaseI(A)"
   ]
  },
  {
   "attachments": {},
   "cell_type": "markdown",
   "metadata": {},
   "source": [
    "Test for `fastMult_upper_bidiagonal`"
   ]
  },
  {
   "cell_type": "code",
   "execution_count": 11,
   "metadata": {},
   "outputs": [
    {
     "name": "stdout",
     "output_type": "stream",
     "text": [
      "41.1411s\n"
     ]
    }
   ],
   "source": [
    "numpy_mul_begin = time()\n",
    "for i in range(1000):\n",
    "    A@B\n",
    "numpy_mul_end = time()\n",
    "print(\"{:.4f}s\".format(numpy_mul_end - numpy_mul_begin))"
   ]
  },
  {
   "cell_type": "code",
   "execution_count": 12,
   "metadata": {},
   "outputs": [
    {
     "name": "stdout",
     "output_type": "stream",
     "text": [
      "34.0637s\n"
     ]
    }
   ],
   "source": [
    "fastMul_begin = time()\n",
    "for i in range(1000):\n",
    "    Bidiagonal_fastMult.fastMult_upper_bidiagonal(A, B)\n",
    "fastMul_end = time()\n",
    "print(\"{:.4f}s\".format(fastMul_end - fastMul_begin))"
   ]
  },
  {
   "attachments": {},
   "cell_type": "markdown",
   "metadata": {},
   "source": [
    "Test for `upper_fastMult_lower_bidiagonal`\n"
   ]
  },
  {
   "cell_type": "code",
   "execution_count": 13,
   "metadata": {},
   "outputs": [
    {
     "name": "stdout",
     "output_type": "stream",
     "text": [
      "20.6029s\n"
     ]
    }
   ],
   "source": [
    "numpy_mul_begin = time()\n",
    "for i in range(1000):\n",
    "    B@B.T\n",
    "numpy_mul_end = time()\n",
    "print(\"{:.4f}s\".format(numpy_mul_end - numpy_mul_begin))"
   ]
  },
  {
   "cell_type": "code",
   "execution_count": 14,
   "metadata": {},
   "outputs": [
    {
     "name": "stdout",
     "output_type": "stream",
     "text": [
      "7.8426s\n"
     ]
    }
   ],
   "source": [
    "fastMul_begin = time()\n",
    "for i in range(1000):\n",
    "    Bidiagonal_fastMult.upper_fastMult_lower_bidiagonal(B, B.T)\n",
    "fastMul_end = time()\n",
    "print(\"{:.4f}s\".format(fastMul_end - fastMul_begin))"
   ]
  },
  {
   "attachments": {},
   "cell_type": "markdown",
   "metadata": {},
   "source": [
    "Test for `qr_tridiagonal_by_Givens` and `qr_lower_bidiagonal_by_Givens`"
   ]
  },
  {
   "cell_type": "code",
   "execution_count": 15,
   "metadata": {},
   "outputs": [
    {
     "name": "stdout",
     "output_type": "stream",
     "text": [
      "4.5729s\n"
     ]
    }
   ],
   "source": [
    "begin = time()\n",
    "for i in range(100):\n",
    "    QR_Factorization.qr_tridiagonal_by_Givens(B.T, return_Givens=True)\n",
    "end = time()\n",
    "print(\"{:.4f}s\".format(end-begin))"
   ]
  },
  {
   "cell_type": "code",
   "execution_count": 16,
   "metadata": {},
   "outputs": [
    {
     "name": "stdout",
     "output_type": "stream",
     "text": [
      "1.2722s\n"
     ]
    }
   ],
   "source": [
    "begin = time()\n",
    "for i in range(100):\n",
    "    QR_Factorization.qr_lower_bidiagonal_by_Givens(B.T, return_Givens=True)\n",
    "end = time()\n",
    "print(\"{:.4f}s\".format(end-begin))"
   ]
  },
  {
   "cell_type": "markdown",
   "metadata": {},
   "source": [
    "**Test SVD**"
   ]
  },
  {
   "attachments": {},
   "cell_type": "markdown",
   "metadata": {},
   "source": [
    "Choose the parameter phaseII as 'A', 'B1', 'B2' to test different implementations of phase II"
   ]
  },
  {
   "cell_type": "code",
   "execution_count": 17,
   "metadata": {},
   "outputs": [],
   "source": [
    "m = 150\n",
    "n = 150\n",
    "A = np.random.rand(m,n)\n",
    "A[n-50:n] = A[n-50:n] * 1000"
   ]
  },
  {
   "cell_type": "code",
   "execution_count": 18,
   "metadata": {},
   "outputs": [
    {
     "name": "stdout",
     "output_type": "stream",
     "text": [
      "phaseI: 0.0650s\n",
      "phaseII: 0.4899s\n",
      "Percentage of entrices successfully recovered by SVD with accuracy: 1e-08\n",
      "100.0 %\n",
      "Percentage of singular values with accuracy: 1e-08\n",
      "100.0 %\n",
      "Max error of singular values:\n",
      "8.58538320297475e-10\n"
     ]
    },
    {
     "data": {
      "text/plain": [
       "(100.0, 100.0, 8.58538320297475e-10)"
      ]
     },
     "execution_count": 18,
     "metadata": {},
     "output_type": "execute_result"
    }
   ],
   "source": [
    "U, S, Vt = SVD.svd(A, phaseII='A')\n",
    "# U, S, Vt = SVD.svd(A, phaseII='A2')\n",
    "# U, S, Vt = SVD.svd(A, phaseII='B')\n",
    "# U, S, Vt = SVD.svd(A, phaseII='B2')\n",
    "# U, S, Vt = SVD.svd(A, phaseII='C')\n",
    "_, Ss, _  = scipy.linalg.svd(A, full_matrices=False)\n",
    "\n",
    "SVD.accuracy_test(A, U, S, Vt, acc=1e-8)"
   ]
  },
  {
   "attachments": {},
   "cell_type": "markdown",
   "metadata": {},
   "source": [
    "**Accuracy Test:**"
   ]
  },
  {
   "attachments": {},
   "cell_type": "markdown",
   "metadata": {},
   "source": [
    "Modify acc as you like!"
   ]
  },
  {
   "cell_type": "code",
   "execution_count": 19,
   "metadata": {},
   "outputs": [
    {
     "name": "stdout",
     "output_type": "stream",
     "text": [
      "Percentage of entrices successfully recovered by SVD with accuracy: 1e-08\n",
      "100.0 %\n",
      "Percentage of singular values with accuracy: 1e-08\n",
      "100.0 %\n",
      "Max error of singular values:\n",
      "8.58538320297475e-10\n"
     ]
    },
    {
     "data": {
      "text/plain": [
       "(100.0, 100.0, 8.58538320297475e-10)"
      ]
     },
     "execution_count": 19,
     "metadata": {},
     "output_type": "execute_result"
    }
   ],
   "source": [
    "SVD.accuracy_test(A, U, S, Vt, acc=1e-8)"
   ]
  },
  {
   "cell_type": "markdown",
   "metadata": {},
   "source": [
    "**Scipy SVD**"
   ]
  },
  {
   "cell_type": "code",
   "execution_count": 20,
   "metadata": {},
   "outputs": [
    {
     "name": "stdout",
     "output_type": "stream",
     "text": [
      "Percentage of entrices successfully recovered by SVD with accuracy: 1e-08\n",
      "100.0 %\n"
     ]
    }
   ],
   "source": [
    "U, Ss, Vt  = scipy.linalg.svd(A, full_matrices=False)\n",
    "# print(np.abs(U@np.diag(S)@Vt - A))\n",
    "acc = 1e-8\n",
    "print(\"Percentage of entrices successfully recovered by SVD with accuracy: {}\".format(acc))\n",
    "print(np.sum(np.abs(U@np.diag(Ss)@Vt - A)< acc) / (n*m) * 100, \"%\")\n",
    "# U, S, Vt"
   ]
  },
  {
   "cell_type": "markdown",
   "metadata": {},
   "source": [
    "## Test for p2"
   ]
  },
  {
   "cell_type": "code",
   "execution_count": 21,
   "metadata": {},
   "outputs": [
    {
     "name": "stdout",
     "output_type": "stream",
     "text": [
      "100\n",
      "phaseI: 0.0120s\n",
      "phaseII: 0.0180s\n",
      "Percentage of entrices successfully recovered by SVD with accuracy: 1e-08\n",
      "100.0 %\n",
      "Percentage of singular values with accuracy: 1e-08\n",
      "97.05882352941177 %\n",
      "Max error of singular values:\n",
      "1.6777644322036522e-08\n",
      "200\n",
      "phaseI: 0.1260s\n",
      "phaseII: 0.0860s\n",
      "Percentage of entrices successfully recovered by SVD with accuracy: 1e-08\n",
      "100.0 %\n",
      "Percentage of singular values with accuracy: 1e-08\n",
      "97.22222222222221 %\n",
      "Max error of singular values:\n",
      "2.39692387164227e-08\n",
      "300\n",
      "phaseI: 0.3884s\n",
      "phaseII: 0.1517s\n",
      "Percentage of entrices successfully recovered by SVD with accuracy: 1e-08\n",
      "100.0 %\n",
      "Percentage of singular values with accuracy: 1e-08\n",
      "97.24770642201835 %\n",
      "Max error of singular values:\n",
      "2.7038950980300296e-08\n",
      "400\n",
      "phaseI: 0.8529s\n",
      "phaseII: 0.2821s\n",
      "Percentage of entrices successfully recovered by SVD with accuracy: 1e-08\n",
      "100.0 %\n",
      "Percentage of singular values with accuracy: 1e-08\n",
      "96.5986394557823 %\n",
      "Max error of singular values:\n",
      "4.038962878639958e-08\n",
      "500\n",
      "phaseI: 1.4984s\n",
      "phaseII: 0.4763s\n",
      "Percentage of entrices successfully recovered by SVD with accuracy: 1e-08\n",
      "100.0 %\n",
      "Percentage of singular values with accuracy: 1e-08\n",
      "97.28260869565217 %\n",
      "Max error of singular values:\n",
      "3.9035868726664064e-08\n",
      "600\n",
      "phaseI: 2.4186s\n",
      "phaseII: 0.7100s\n",
      "Percentage of entrices successfully recovered by SVD with accuracy: 1e-08\n",
      "100.0 %\n",
      "Percentage of singular values with accuracy: 1e-08\n",
      "97.28506787330316 %\n",
      "Max error of singular values:\n",
      "3.816206634464708e-08\n",
      "700\n",
      "phaseI: 3.6607s\n",
      "phaseII: 0.9761s\n",
      "Percentage of entrices successfully recovered by SVD with accuracy: 1e-08\n",
      "100.0 %\n",
      "Percentage of singular values with accuracy: 1e-08\n",
      "97.28682170542635 %\n",
      "Max error of singular values:\n",
      "3.7551558993624885e-08\n",
      "800\n",
      "phaseI: 5.5681s\n",
      "phaseII: 1.3602s\n",
      "Percentage of entrices successfully recovered by SVD with accuracy: 1e-08\n",
      "100.0 %\n",
      "Percentage of singular values with accuracy: 1e-08\n",
      "97.28813559322033 %\n",
      "Max error of singular values:\n",
      "3.71009793700869e-08\n",
      "900\n",
      "phaseI: 7.5479s\n",
      "phaseII: 1.7955s\n",
      "Percentage of entrices successfully recovered by SVD with accuracy: 1e-08\n",
      "100.0 %\n",
      "Percentage of singular values with accuracy: 1e-08\n",
      "96.996996996997 %\n",
      "Max error of singular values:\n",
      "3.675478779044727e-08\n",
      "1000\n",
      "phaseI: 13.0741s\n",
      "phaseII: 6.4260s\n",
      "Percentage of entrices successfully recovered by SVD with accuracy: 1e-08\n",
      "100.0 %\n",
      "Percentage of singular values with accuracy: 1e-08\n",
      "97.02702702702702 %\n",
      "Max error of singular values:\n",
      "3.648048506263927e-08\n"
     ]
    }
   ],
   "source": [
    "accuracy = []\n",
    "time = []\n",
    "for m in range(100, 1001, 100):\n",
    "    print(m)\n",
    "    n = m\n",
    "    k = 66\n",
    "    A = np.array(np.diag([1/4.1]*n, 0)+np.diag([1/4.1]*(n-1), 1)+np.diag([2.1/4.1]*(n-1), -1))\n",
    "    A = np.linalg.matrix_power(A, k)\n",
    "    UA, SA, VAt,time_ps1,time_ps2 = SVD.svd(A, phaseII=\"A\", timed = True)\n",
    "    accuracy_result = SVD.accuracy_test(A, UA, SA, VAt, acc=1e-8)\n",
    "    accuracy.append([m, accuracy_result[0], accuracy_result[1], accuracy_result[2]]) \n",
    "    time.append([m, time_ps1, time_ps2])\n",
    "\n",
    "import pandas as pd\n",
    "accuracy = pd.DataFrame(accuracy)\n",
    "accuracy.to_csv(\"A_Kernel_Accuracy.csv\")\n",
    "time = pd.DataFrame(time)\n",
    "time.to_csv(\"A_Kernel_Time.csv\")"
   ]
  },
  {
   "cell_type": "code",
   "execution_count": 22,
   "metadata": {},
   "outputs": [
    {
     "name": "stdout",
     "output_type": "stream",
     "text": [
      "10\n",
      "phaseI: 0.0020s\n",
      "phaseII: 0.0080s\n",
      "Percentage of entrices successfully recovered by SVD with accuracy: 1e-08\n",
      "100.0 %\n",
      "Percentage of singular values with accuracy: 1e-08\n",
      "100.0 %\n",
      "Max error of singular values:\n",
      "2.1316368808976804e-13\n",
      "20\n",
      "phaseI: 0.0040s\n",
      "phaseII: 0.0220s\n",
      "Percentage of entrices successfully recovered by SVD with accuracy: 1e-08\n",
      "100.0 %\n",
      "Percentage of singular values with accuracy: 1e-08\n",
      "100.0 %\n",
      "Max error of singular values:\n",
      "6.572867250476122e-15\n",
      "30\n",
      "phaseI: 0.0050s\n",
      "phaseII: 0.0520s\n",
      "Percentage of entrices successfully recovered by SVD with accuracy: 1e-08\n",
      "100.0 %\n",
      "Percentage of singular values with accuracy: 1e-08\n",
      "100.0 %\n",
      "Max error of singular values:\n",
      "7.105427357601002e-15\n",
      "40\n",
      "phaseI: 0.0070s\n",
      "phaseII: 0.0898s\n",
      "Percentage of entrices successfully recovered by SVD with accuracy: 1e-08\n",
      "100.0 %\n",
      "Percentage of singular values with accuracy: 1e-08\n",
      "100.0 %\n",
      "Max error of singular values:\n",
      "1.0658141036401503e-14\n",
      "50\n",
      "phaseI: 0.0080s\n",
      "phaseII: 0.1497s\n",
      "Percentage of entrices successfully recovered by SVD with accuracy: 1e-08\n",
      "100.0 %\n",
      "Percentage of singular values with accuracy: 1e-08\n",
      "100.0 %\n",
      "Max error of singular values:\n",
      "5.88418203051333e-15\n",
      "60\n",
      "phaseI: 0.0120s\n",
      "phaseII: 0.1988s\n",
      "Percentage of entrices successfully recovered by SVD with accuracy: 1e-08\n",
      "100.0 %\n",
      "Percentage of singular values with accuracy: 1e-08\n",
      "100.0 %\n",
      "Max error of singular values:\n",
      "1.0658141036401503e-14\n",
      "70\n",
      "phaseI: 0.0140s\n",
      "phaseII: 0.2800s\n",
      "Percentage of entrices successfully recovered by SVD with accuracy: 1e-08\n",
      "100.0 %\n",
      "Percentage of singular values with accuracy: 1e-08\n",
      "100.0 %\n",
      "Max error of singular values:\n",
      "3.5857720872417564e-13\n",
      "80\n",
      "phaseI: 0.0170s\n",
      "phaseII: 0.3450s\n",
      "Percentage of entrices successfully recovered by SVD with accuracy: 1e-08\n",
      "100.0 %\n",
      "Percentage of singular values with accuracy: 1e-08\n",
      "100.0 %\n",
      "Max error of singular values:\n",
      "2.842170943040401e-14\n",
      "90\n",
      "phaseI: 0.0190s\n",
      "phaseII: 0.4179s\n",
      "Percentage of entrices successfully recovered by SVD with accuracy: 1e-08\n",
      "100.0 %\n",
      "Percentage of singular values with accuracy: 1e-08\n",
      "100.0 %\n",
      "Max error of singular values:\n",
      "1.4210854715202004e-14\n",
      "100\n",
      "phaseI: 0.0290s\n",
      "phaseII: 0.5312s\n",
      "Percentage of entrices successfully recovered by SVD with accuracy: 1e-08\n",
      "100.0 %\n",
      "Percentage of singular values with accuracy: 1e-08\n",
      "100.0 %\n",
      "Max error of singular values:\n",
      "1.0658141036401503e-14\n",
      "110\n",
      "phaseI: 0.0421s\n",
      "phaseII: 0.6335s\n",
      "Percentage of entrices successfully recovered by SVD with accuracy: 1e-08\n",
      "100.0 %\n",
      "Percentage of singular values with accuracy: 1e-08\n",
      "100.0 %\n",
      "Max error of singular values:\n",
      "1.8856444183867893e-14\n",
      "120\n",
      "phaseI: 0.0540s\n",
      "phaseII: 0.7297s\n",
      "Percentage of entrices successfully recovered by SVD with accuracy: 1e-08\n",
      "100.0 %\n",
      "Percentage of singular values with accuracy: 1e-08\n",
      "100.0 %\n",
      "Max error of singular values:\n",
      "2.842170943040401e-14\n",
      "130\n",
      "phaseI: 0.0680s\n",
      "phaseII: 0.9104s\n",
      "Percentage of entrices successfully recovered by SVD with accuracy: 1e-08\n",
      "100.0 %\n",
      "Percentage of singular values with accuracy: 1e-08\n",
      "100.0 %\n",
      "Max error of singular values:\n",
      "4.0793757261070596e-14\n",
      "140\n",
      "phaseI: 0.0920s\n",
      "phaseII: 1.0776s\n",
      "Percentage of entrices successfully recovered by SVD with accuracy: 1e-08\n",
      "100.0 %\n",
      "Percentage of singular values with accuracy: 1e-08\n",
      "100.0 %\n",
      "Max error of singular values:\n",
      "2.842170943040401e-14\n",
      "150\n",
      "phaseI: 0.1122s\n",
      "phaseII: 1.3008s\n",
      "Percentage of entrices successfully recovered by SVD with accuracy: 1e-08\n",
      "100.0 %\n",
      "Percentage of singular values with accuracy: 1e-08\n",
      "100.0 %\n",
      "Max error of singular values:\n",
      "7.132187635622289e-13\n",
      "160\n",
      "phaseI: 0.1280s\n",
      "phaseII: 1.4333s\n",
      "Percentage of entrices successfully recovered by SVD with accuracy: 1e-08\n",
      "100.0 %\n",
      "Percentage of singular values with accuracy: 1e-08\n",
      "100.0 %\n",
      "Max error of singular values:\n",
      "1.687538997430238e-14\n",
      "170\n",
      "phaseI: 0.1430s\n",
      "phaseII: 1.6631s\n",
      "Percentage of entrices successfully recovered by SVD with accuracy: 1e-08\n",
      "100.0 %\n",
      "Percentage of singular values with accuracy: 1e-08\n",
      "100.0 %\n",
      "Max error of singular values:\n",
      "4.263256414560601e-14\n",
      "180\n",
      "phaseI: 0.1640s\n",
      "phaseII: 1.9105s\n",
      "Percentage of entrices successfully recovered by SVD with accuracy: 1e-08\n",
      "100.0 %\n",
      "Percentage of singular values with accuracy: 1e-08\n",
      "100.0 %\n",
      "Max error of singular values:\n",
      "1.6666529267794772e-13\n",
      "190\n",
      "phaseI: 0.1916s\n",
      "phaseII: 2.1074s\n",
      "Percentage of entrices successfully recovered by SVD with accuracy: 1e-08\n",
      "100.0 %\n",
      "Percentage of singular values with accuracy: 1e-08\n",
      "100.0 %\n",
      "Max error of singular values:\n",
      "5.712075777652981e-14\n",
      "200\n",
      "phaseI: 0.2140s\n",
      "phaseII: 2.3112s\n",
      "Percentage of entrices successfully recovered by SVD with accuracy: 1e-08\n",
      "100.0 %\n",
      "Percentage of singular values with accuracy: 1e-08\n",
      "100.0 %\n",
      "Max error of singular values:\n",
      "9.597585313297907e-14\n"
     ]
    }
   ],
   "source": [
    "accuracy = []\n",
    "time = []\n",
    "for m in range(10, 201, 10):\n",
    "    print(m)\n",
    "    n = m\n",
    "    A = np.random.rand(m, n)\n",
    "    UA, SA, VAt,time_ps1,time_ps2 = SVD.svd(A, phaseII=\"A\", timed = True)\n",
    "    accuracy_result = SVD.accuracy_test(A, UA, SA, VAt, acc=1e-8)\n",
    "    accuracy.append([m, accuracy_result[0], accuracy_result[1], accuracy_result[2]]) \n",
    "    time.append([m, time_ps1, time_ps2])\n",
    "import pandas as pd\n",
    "accuracy = pd.DataFrame(accuracy)\n",
    "accuracy.to_csv(\"A_Random_Accuracy.csv\")\n",
    "time = pd.DataFrame(time)\n",
    "time.to_csv(\"A_Random_Time.csv\")"
   ]
  },
  {
   "cell_type": "code",
   "execution_count": 23,
   "metadata": {},
   "outputs": [
    {
     "name": "stdout",
     "output_type": "stream",
     "text": [
      "100\n",
      "phaseI: 0.0260s\n",
      "phaseII: 0.0550s\n",
      "Percentage of entrices successfully recovered by SVD with accuracy: 1e-08\n",
      "100.0 %\n",
      "Percentage of singular values with accuracy: 1e-08\n",
      "100.0 %\n",
      "Max error of singular values:\n",
      "6.0585375741087076e-15\n",
      "200\n",
      "phaseI: 0.2020s\n",
      "phaseII: 0.2820s\n",
      "Percentage of entrices successfully recovered by SVD with accuracy: 1e-08\n",
      "100.0 %\n",
      "Percentage of singular values with accuracy: 1e-08\n",
      "100.0 %\n",
      "Max error of singular values:\n",
      "1.887379141862766e-15\n",
      "300\n",
      "phaseI: 0.4913s\n",
      "phaseII: 0.5070s\n",
      "Percentage of entrices successfully recovered by SVD with accuracy: 1e-08\n",
      "100.0 %\n",
      "Percentage of singular values with accuracy: 1e-08\n",
      "100.0 %\n",
      "Max error of singular values:\n",
      "5.440092820663267e-15\n",
      "400\n",
      "phaseI: 0.9378s\n",
      "phaseII: 1.0041s\n",
      "Percentage of entrices successfully recovered by SVD with accuracy: 1e-08\n",
      "100.0 %\n",
      "Percentage of singular values with accuracy: 1e-08\n",
      "100.0 %\n",
      "Max error of singular values:\n",
      "5.773159728050814e-15\n",
      "500\n",
      "phaseI: 1.4745s\n",
      "phaseII: 1.7415s\n",
      "Percentage of entrices successfully recovered by SVD with accuracy: 1e-08\n",
      "100.0 %\n",
      "Percentage of singular values with accuracy: 1e-08\n",
      "100.0 %\n",
      "Max error of singular values:\n",
      "1.1435297153639112e-14\n",
      "600\n",
      "phaseI: 2.6348s\n",
      "phaseII: 3.4588s\n",
      "Percentage of entrices successfully recovered by SVD with accuracy: 1e-08\n",
      "100.0 %\n",
      "Percentage of singular values with accuracy: 1e-08\n",
      "100.0 %\n",
      "Max error of singular values:\n",
      "1.454392162258955e-14\n",
      "700\n",
      "phaseI: 6.2018s\n",
      "phaseII: 5.7394s\n",
      "Percentage of entrices successfully recovered by SVD with accuracy: 1e-08\n",
      "100.0 %\n",
      "Percentage of singular values with accuracy: 1e-08\n",
      "100.0 %\n",
      "Max error of singular values:\n",
      "1.2101430968414206e-14\n",
      "800\n",
      "phaseI: 6.0766s\n",
      "phaseII: 6.3684s\n",
      "Percentage of entrices successfully recovered by SVD with accuracy: 1e-08\n",
      "100.0 %\n",
      "Percentage of singular values with accuracy: 1e-08\n",
      "100.0 %\n",
      "Max error of singular values:\n",
      "2.298161660974074e-14\n",
      "900\n",
      "phaseI: 12.8597s\n",
      "phaseII: 14.0944s\n",
      "Percentage of entrices successfully recovered by SVD with accuracy: 1e-08\n",
      "100.0 %\n",
      "Percentage of singular values with accuracy: 1e-08\n",
      "100.0 %\n",
      "Max error of singular values:\n",
      "3.108624468950438e-14\n",
      "1000\n",
      "phaseI: 12.3482s\n",
      "phaseII: 17.4669s\n",
      "Percentage of entrices successfully recovered by SVD with accuracy: 1e-08\n",
      "100.0 %\n",
      "Percentage of singular values with accuracy: 1e-08\n",
      "100.0 %\n",
      "Max error of singular values:\n",
      "3.5638159090467525e-14\n"
     ]
    }
   ],
   "source": [
    "accuracy = []\n",
    "time = []\n",
    "for m in range(100, 1001, 100):\n",
    "    print(m)\n",
    "    n = m\n",
    "    k = 66\n",
    "    A = np.array(np.diag([1/4.1]*n, 0)+np.diag([1/4.1]*(n-1), 1)+np.diag([2.1/4.1]*(n-1), -1))\n",
    "    A = np.linalg.matrix_power(A, k)\n",
    "    UB, SB, VBt,time_ps1,time_ps2 = SVD.svd(A, phaseII=\"B\", timed = True)\n",
    "    accuracy_result = SVD.accuracy_test(A, UB, SB, VBt, acc=1e-8)\n",
    "    accuracy.append([m, accuracy_result[0], accuracy_result[1], accuracy_result[2]]) \n",
    "    time.append([m, time_ps1, time_ps2])\n",
    "\n",
    "import pandas as pd\n",
    "accuracy = pd.DataFrame(accuracy)\n",
    "accuracy.to_csv(\"B_Kernel_Accuracy.csv\")\n",
    "time = pd.DataFrame(time)\n",
    "time.to_csv(\"B_Kernel_Time.csv\")"
   ]
  },
  {
   "cell_type": "code",
   "execution_count": 24,
   "metadata": {},
   "outputs": [
    {
     "name": "stdout",
     "output_type": "stream",
     "text": [
      "10\n",
      "phaseI: 0.0030s\n",
      "phaseII: 0.0810s\n",
      "Percentage of entrices successfully recovered by SVD with accuracy: 1e-08\n",
      "100.0 %\n",
      "Percentage of singular values with accuracy: 1e-08\n",
      "100.0 %\n",
      "Max error of singular values:\n",
      "2.6645352591003757e-15\n",
      "20\n",
      "phaseI: 0.0040s\n",
      "phaseII: 0.2243s\n",
      "Percentage of entrices successfully recovered by SVD with accuracy: 1e-08\n",
      "100.0 %\n",
      "Percentage of singular values with accuracy: 1e-08\n",
      "95.0 %\n",
      "Max error of singular values:\n",
      "0.0564696268578293\n",
      "30\n",
      "phaseI: 0.0060s\n",
      "phaseII: 1.0633s\n",
      "Percentage of entrices successfully recovered by SVD with accuracy: 1e-08\n",
      "100.0 %\n",
      "Percentage of singular values with accuracy: 1e-08\n",
      "100.0 %\n",
      "Max error of singular values:\n",
      "1.3766765505351941e-14\n",
      "40\n",
      "phaseI: 0.0090s\n",
      "phaseII: 1.1907s\n",
      "Percentage of entrices successfully recovered by SVD with accuracy: 1e-08\n",
      "100.0 %\n",
      "Percentage of singular values with accuracy: 1e-08\n",
      "100.0 %\n",
      "Max error of singular values:\n",
      "1.8207657603852567e-14\n",
      "50\n",
      "phaseI: 0.0120s\n",
      "phaseII: 0.9552s\n",
      "Percentage of entrices successfully recovered by SVD with accuracy: 1e-08\n",
      "100.0 %\n",
      "Percentage of singular values with accuracy: 1e-08\n",
      "100.0 %\n",
      "Max error of singular values:\n",
      "1.1546319456101628e-14\n",
      "60\n",
      "phaseI: 0.0080s\n",
      "phaseII: 1.7108s\n",
      "Percentage of entrices successfully recovered by SVD with accuracy: 1e-08\n",
      "100.0 %\n",
      "Percentage of singular values with accuracy: 1e-08\n",
      "100.0 %\n",
      "Max error of singular values:\n",
      "2.398081733190338e-14\n",
      "70\n",
      "phaseI: 0.0100s\n",
      "phaseII: 1.8245s\n",
      "Percentage of entrices successfully recovered by SVD with accuracy: 1e-08\n",
      "100.0 %\n",
      "Percentage of singular values with accuracy: 1e-08\n",
      "100.0 %\n",
      "Max error of singular values:\n",
      "1.865174681370263e-14\n",
      "80\n",
      "phaseI: 0.0120s\n",
      "phaseII: 4.9686s\n",
      "Percentage of entrices successfully recovered by SVD with accuracy: 1e-08\n",
      "100.0 %\n",
      "Percentage of singular values with accuracy: 1e-08\n",
      "100.0 %\n",
      "Max error of singular values:\n",
      "4.707345624410664e-14\n",
      "90\n",
      "phaseI: 0.0180s\n",
      "phaseII: 11.3300s\n",
      "Percentage of entrices successfully recovered by SVD with accuracy: 1e-08\n",
      "100.0 %\n",
      "Percentage of singular values with accuracy: 1e-08\n",
      "100.0 %\n",
      "Max error of singular values:\n",
      "4.618527782440651e-14\n",
      "100\n",
      "phaseI: 0.0330s\n",
      "phaseII: 8.3432s\n",
      "Percentage of entrices successfully recovered by SVD with accuracy: 1e-08\n",
      "100.0 %\n",
      "Percentage of singular values with accuracy: 1e-08\n",
      "100.0 %\n",
      "Max error of singular values:\n",
      "9.814371537686384e-14\n",
      "110\n",
      "phaseI: 0.0320s\n",
      "phaseII: 20.0108s\n",
      "Percentage of entrices successfully recovered by SVD with accuracy: 1e-08\n",
      "100.0 %\n",
      "Percentage of singular values with accuracy: 1e-08\n",
      "100.0 %\n",
      "Max error of singular values:\n",
      "3.197442310920451e-13\n",
      "120\n",
      "phaseI: 0.0670s\n",
      "phaseII: 20.8590s\n",
      "Percentage of entrices successfully recovered by SVD with accuracy: 1e-08\n",
      "100.0 %\n",
      "Percentage of singular values with accuracy: 1e-08\n",
      "100.0 %\n",
      "Max error of singular values:\n",
      "1.3011813848606835e-13\n",
      "130\n",
      "phaseI: 0.0864s\n",
      "phaseII: 15.6375s\n",
      "Percentage of entrices successfully recovered by SVD with accuracy: 1e-08\n",
      "100.0 %\n",
      "Percentage of singular values with accuracy: 1e-08\n",
      "100.0 %\n",
      "Max error of singular values:\n",
      "6.306066779870889e-14\n",
      "140\n",
      "phaseI: 0.0680s\n",
      "phaseII: 15.1734s\n",
      "Percentage of entrices successfully recovered by SVD with accuracy: 1e-08\n",
      "100.0 %\n",
      "Percentage of singular values with accuracy: 1e-08\n",
      "100.0 %\n",
      "Max error of singular values:\n",
      "7.185363415374013e-13\n",
      "150\n",
      "phaseI: 0.0960s\n",
      "phaseII: 36.7554s\n",
      "Percentage of entrices successfully recovered by SVD with accuracy: 1e-08\n",
      "100.0 %\n",
      "Percentage of singular values with accuracy: 1e-08\n",
      "100.0 %\n",
      "Max error of singular values:\n",
      "1.1235457009206584e-13\n",
      "160\n",
      "phaseI: 0.0900s\n",
      "phaseII: 19.6770s\n",
      "Percentage of entrices successfully recovered by SVD with accuracy: 1e-08\n",
      "100.0 %\n",
      "Percentage of singular values with accuracy: 1e-08\n",
      "100.0 %\n",
      "Max error of singular values:\n",
      "7.815970093361102e-13\n",
      "170\n",
      "phaseI: 0.0490s\n",
      "phaseII: 25.7831s\n",
      "Percentage of entrices successfully recovered by SVD with accuracy: 1e-08\n",
      "100.0 %\n",
      "Percentage of singular values with accuracy: 1e-08\n",
      "100.0 %\n",
      "Max error of singular values:\n",
      "1.6076029396572267e-13\n",
      "180\n",
      "phaseI: 0.2130s\n",
      "phaseII: 43.6854s\n",
      "Percentage of entrices successfully recovered by SVD with accuracy: 1e-08\n",
      "100.0 %\n",
      "Percentage of singular values with accuracy: 1e-08\n",
      "100.0 %\n",
      "Max error of singular values:\n",
      "3.19300141882195e-13\n",
      "190\n",
      "phaseI: 0.1530s\n",
      "phaseII: 54.8944s\n",
      "Percentage of entrices successfully recovered by SVD with accuracy: 1e-08\n",
      "100.0 %\n",
      "Percentage of singular values with accuracy: 1e-08\n",
      "100.0 %\n",
      "Max error of singular values:\n",
      "1.6608936448392342e-13\n",
      "200\n",
      "phaseI: 0.2763s\n",
      "phaseII: 41.4973s\n",
      "Percentage of entrices successfully recovered by SVD with accuracy: 1e-08\n",
      "100.0 %\n",
      "Percentage of singular values with accuracy: 1e-08\n",
      "100.0 %\n",
      "Max error of singular values:\n",
      "1.1723955140041653e-13\n"
     ]
    }
   ],
   "source": [
    "accuracy = []\n",
    "time = []\n",
    "for m in range(10, 201, 10):\n",
    "    print(m)\n",
    "    n = m\n",
    "    A = np.random.rand(m, n)\n",
    "    UB, SB, VBt,time_ps1,time_ps2 = SVD.svd(A, phaseII=\"B\", timed = True)\n",
    "    accuracy_result = SVD.accuracy_test(A, UB, SB, VBt, acc=1e-8)\n",
    "    accuracy.append([m, accuracy_result[0], accuracy_result[1], accuracy_result[2]]) \n",
    "    time.append([m, time_ps1, time_ps2])\n",
    "\n",
    "import pandas as pd\n",
    "accuracy = pd.DataFrame(accuracy)\n",
    "accuracy.to_csv(\"B_Random_Accuracy.csv\")\n",
    "time = pd.DataFrame(time)\n",
    "time.to_csv(\"B_Random_Time.csv\")"
   ]
  },
  {
   "attachments": {},
   "cell_type": "markdown",
   "metadata": {},
   "source": [
    "SVD accuracy test playground: modify acc as you like!"
   ]
  },
  {
   "cell_type": "code",
   "execution_count": 26,
   "metadata": {},
   "outputs": [
    {
     "name": "stdout",
     "output_type": "stream",
     "text": [
      "phaseI: 11.2736s\n",
      "phaseII: 65.1873s\n",
      "Percentage of entrices successfully recovered by SVD with accuracy: 1e-08\n",
      "100.0 %\n",
      "Percentage of singular values with accuracy: 1e-08\n",
      "99.7 %\n",
      "Max error of singular values:\n",
      "2.059021695659859e-08\n"
     ]
    },
    {
     "data": {
      "text/plain": [
       "(100.0, 99.7, 2.059021695659859e-08)"
      ]
     },
     "execution_count": 26,
     "metadata": {},
     "output_type": "execute_result"
    }
   ],
   "source": [
    "n = m = 1000\n",
    "k = 66\n",
    "A = np.array(np.diag([1/4.1]*n, 0)+np.diag([1/4.1]*(n-1), 1)+np.diag([2.1/4.1]*(n-1), -1))\n",
    "U, S, Vt = SVD.svd(A, phaseII='A')\n",
    "SVD.accuracy_test(A, U, S, Vt, acc=1e-8)"
   ]
  },
  {
   "cell_type": "code",
   "execution_count": 27,
   "metadata": {},
   "outputs": [
    {
     "name": "stdout",
     "output_type": "stream",
     "text": [
      "Percentage of entrices successfully recovered by SVD with accuracy: 1e-08\n",
      "100.0 %\n",
      "Percentage of entrices of pseudoinverse successfully recovered by SVD with accuracy: 1e-08\n",
      "45.1451 %\n"
     ]
    }
   ],
   "source": [
    "print(\"Percentage of entrices successfully recovered by SVD with accuracy: {}\".format(acc))\n",
    "print(np.sum(np.abs(U@np.diag(S)@Vt - A)< acc) / (n*m) * 100, \"%\")\n",
    "acc = 1e-8\n",
    "print(\"Percentage of entrices of pseudoinverse successfully recovered by SVD with accuracy: {}\".format(acc))\n",
    "print(np.sum(np.abs(Vt.T@np.diag(S)@U.T - np.linalg.inv(A))< acc) / (n*m) * 100, \"%\")"
   ]
  }
 ],
 "metadata": {
  "kernelspec": {
   "display_name": "Python 3",
   "language": "python",
   "name": "python3"
  },
  "language_info": {
   "codemirror_mode": {
    "name": "ipython",
    "version": 3
   },
   "file_extension": ".py",
   "mimetype": "text/x-python",
   "name": "python",
   "nbconvert_exporter": "python",
   "pygments_lexer": "ipython3",
   "version": "3.10.4"
  },
  "orig_nbformat": 4,
  "vscode": {
   "interpreter": {
    "hash": "41f2c36dba965539b3b5b1a452b2e4e0ddff6087df4c95f88099f95d32667815"
   }
  }
 },
 "nbformat": 4,
 "nbformat_minor": 2
}
