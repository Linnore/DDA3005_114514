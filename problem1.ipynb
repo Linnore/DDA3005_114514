{
 "cells": [
  {
   "cell_type": "code",
   "execution_count": 58,
   "metadata": {},
   "outputs": [
    {
     "name": "stdout",
     "output_type": "stream",
     "text": [
      "The autoreload extension is already loaded. To reload it, use:\n",
      "  %reload_ext autoreload\n"
     ]
    }
   ],
   "source": [
    "import numpy as np\n",
    "import scipy\n",
    "import utils\n",
    "from utils import HouseHolder, QR, SVD\n",
    "\n",
    "%load_ext autoreload\n",
    "%autoreload 2"
   ]
  },
  {
   "cell_type": "markdown",
   "metadata": {},
   "source": [
    "# Problem 1: SVD by Two-Phase Approach"
   ]
  },
  {
   "cell_type": "markdown",
   "metadata": {},
   "source": [
    "## Phase-I: Golub-Kahan Bidiagonalization"
   ]
  },
  {
   "cell_type": "code",
   "execution_count": 59,
   "metadata": {},
   "outputs": [
    {
     "data": {
      "text/plain": [
       "'%.8f'"
      ]
     },
     "execution_count": 59,
     "metadata": {},
     "output_type": "execute_result"
    }
   ],
   "source": [
    "%precision 8"
   ]
  },
  {
   "cell_type": "code",
   "execution_count": 60,
   "metadata": {},
   "outputs": [
    {
     "name": "stdout",
     "output_type": "stream",
     "text": [
      "[[ 2. -5.  0.  0.]\n",
      " [ 0.  0.  0.  0.]\n",
      " [ 0.  0. -1.  0.]\n",
      " [ 0.  0.  0.  0.]\n",
      " [ 0.  0.  0.  0.]\n",
      " [ 0.  0.  0.  0.]\n",
      " [ 0.  0.  0.  0.]]\n"
     ]
    }
   ],
   "source": [
    "A = np.array([[0, 0, 0, 0],\n",
    "              [0, 0, 0, 0],\n",
    "              [0, 0, 1, 0],\n",
    "              [0, 0, 0, 0],\n",
    "              [2, 5, 0, 0],\n",
    "              [0, 0, 0, 0],\n",
    "              [0, 0, 0, 0]], dtype=np.float64)\n",
    "\n",
    "\n",
    "# A = np.array([[1, 0, 1],\n",
    "#               [2, 5**.5, 0],\n",
    "#               [0, 0, 1],\n",
    "#               [0, 0, 1]])\n",
    "B, Qt, P = SVD.svd_phaseI(A)\n",
    "print(B)\n"
   ]
  },
  {
   "cell_type": "code",
   "execution_count": 61,
   "metadata": {},
   "outputs": [
    {
     "name": "stdout",
     "output_type": "stream",
     "text": [
      "[[ 2. -5.  0.  0.]\n",
      " [ 0.  0.  0.  0.]\n",
      " [ 0.  0. -1.  0.]\n",
      " [ 0.  0.  0.  0.]\n",
      " [ 0.  0.  0.  0.]\n",
      " [ 0.  0.  0.  0.]\n",
      " [ 0.  0.  0.  0.]]\n"
     ]
    }
   ],
   "source": [
    "print(Qt @ A @ P)"
   ]
  },
  {
   "cell_type": "markdown",
   "metadata": {},
   "source": [
    "Todo: We may not need to form the reflection matrix H explicitly during Golub-Kahan bidiagonalization."
   ]
  },
  {
   "cell_type": "markdown",
   "metadata": {},
   "source": [
    "## Phase-II-A"
   ]
  },
  {
   "cell_type": "markdown",
   "metadata": {},
   "source": [
    "**Test SVD**"
   ]
  },
  {
   "cell_type": "code",
   "execution_count": 62,
   "metadata": {},
   "outputs": [
    {
     "data": {
      "text/plain": [
       "'%.4f'"
      ]
     },
     "execution_count": 62,
     "metadata": {},
     "output_type": "execute_result"
    }
   ],
   "source": [
    "%precision 4"
   ]
  },
  {
   "cell_type": "code",
   "execution_count": 81,
   "metadata": {},
   "outputs": [],
   "source": [
    "m=  n = 1024\n",
    "A = np.random.rand(m,n)\n"
   ]
  },
  {
   "cell_type": "code",
   "execution_count": 64,
   "metadata": {},
   "outputs": [],
   "source": [
    "X = np.array([[0, 0, 0, 0],\n",
    "              [0, 0, 0, 0],\n",
    "              [0, 0, 1, 0],\n",
    "              [0, 0, 0, 0],\n",
    "              [2, 5, 0, 0],\n",
    "              [0, 0, 0, 0],\n",
    "              [0, 0, 0, 0]], dtype=np.float64)"
   ]
  },
  {
   "cell_type": "code",
   "execution_count": 82,
   "metadata": {},
   "outputs": [
    {
     "name": "stdout",
     "output_type": "stream",
     "text": [
      "phaseI: 42.835978746414185\n",
      "phaseII: 71.46458125114441\n",
      "1048576\n"
     ]
    },
    {
     "data": {
      "text/plain": [
       "(array([[-0.0312,  0.0019,  0.0277, ..., -0.0236,  0.0141,  0.0423],\n",
       "        [-0.0312,  0.0245, -0.0304, ...,  0.0071,  0.0093, -0.0416],\n",
       "        [-0.0309, -0.0137,  0.0553, ..., -0.0084,  0.025 ,  0.0134],\n",
       "        ...,\n",
       "        [-0.0311, -0.0544,  0.0087, ...,  0.0189, -0.0073,  0.0122],\n",
       "        [-0.0311,  0.0012,  0.0645, ..., -0.0265,  0.0306,  0.0011],\n",
       "        [-0.0312, -0.0382, -0.03  , ..., -0.0062, -0.0239, -0.0105]]),\n",
       " array([5.1210e+02, 1.8303e+01, 1.8258e+01, ..., 2.9334e-02, 1.5236e-02,\n",
       "        3.3635e-03]),\n",
       " array([[-3.1178e-02, -3.0464e-02, -3.0865e-02, ..., -3.0801e-02,\n",
       "         -3.0778e-02, -3.0611e-02],\n",
       "        [ 3.1722e-02, -6.7891e-02,  5.6502e-02, ..., -6.2018e-05,\n",
       "          3.8338e-02, -4.0348e-03],\n",
       "        [-1.7848e-02, -1.3250e-02, -1.8052e-02, ..., -8.5527e-03,\n",
       "         -5.2152e-02,  3.1447e-02],\n",
       "        ...,\n",
       "        [ 2.5326e-02,  4.3156e-03, -4.4283e-02, ..., -2.3825e-02,\n",
       "          3.6184e-02, -4.8622e-02],\n",
       "        [ 4.6897e-02,  1.8263e-02, -2.5546e-02, ..., -1.6350e-02,\n",
       "         -3.3164e-02,  4.3548e-03],\n",
       "        [ 2.1652e-03, -2.6743e-03,  4.9225e-02, ...,  5.7948e-03,\n",
       "          1.7866e-02,  2.2271e-02]]))"
      ]
     },
     "execution_count": 82,
     "metadata": {},
     "output_type": "execute_result"
    }
   ],
   "source": [
    "U, S, Vt = SVD.svd(A)\n",
    "# print(U@np.diag(S)@Vt)\n",
    "print(np.sum(np.abs(U@np.diag(S)@Vt - A)< 1e-13))\n",
    "U, S, Vt"
   ]
  },
  {
   "cell_type": "code",
   "execution_count": 75,
   "metadata": {},
   "outputs": [
    {
     "data": {
      "text/plain": [
       "(array([[-0.0318,  0.024 , -0.0258, ...,  0.0072,  0.0386, -0.0329],\n",
       "        [-0.0317,  0.0404,  0.0006, ..., -0.0211, -0.0075,  0.0624],\n",
       "        [-0.0315,  0.0322, -0.0414, ..., -0.0081,  0.0072,  0.0065],\n",
       "        ...,\n",
       "        [-0.031 , -0.0359,  0.0533, ..., -0.0156, -0.0283, -0.0327],\n",
       "        [-0.0321,  0.0266, -0.0513, ..., -0.0212, -0.0254, -0.0007],\n",
       "        [-0.0319,  0.0087, -0.0075, ...,  0.0284,  0.0568, -0.0342]]),\n",
       " array([5.1281e+02, 1.8356e+01, 1.8266e+01, ..., 2.7355e-02, 1.5270e-02,\n",
       "        8.7526e-03]),\n",
       " array([[-0.0312, -0.031 , -0.0303, ..., -0.0312, -0.0319, -0.0313],\n",
       "        [ 0.0612,  0.0031,  0.0503, ..., -0.0586,  0.0193,  0.0104],\n",
       "        [-0.0133, -0.0307,  0.0154, ...,  0.0075, -0.0673, -0.0399],\n",
       "        ...,\n",
       "        [ 0.0075,  0.0456,  0.0185, ...,  0.03  , -0.028 , -0.0091],\n",
       "        [ 0.0511,  0.0295, -0.0266, ...,  0.051 , -0.0097, -0.0299],\n",
       "        [ 0.0454,  0.0333, -0.0338, ...,  0.0124, -0.0061,  0.0035]]))"
      ]
     },
     "execution_count": 75,
     "metadata": {},
     "output_type": "execute_result"
    }
   ],
   "source": [
    "U, S, Vt  = scipy.linalg.svd(A, full_matrices=False)\n",
    "# print(U@np.diag(S)@Vt)\n",
    "U, S, Vt"
   ]
  },
  {
   "cell_type": "markdown",
   "metadata": {},
   "source": []
  }
 ],
 "metadata": {
  "kernelspec": {
   "display_name": "Python 3.9.7 ('base')",
   "language": "python",
   "name": "python3"
  },
  "language_info": {
   "codemirror_mode": {
    "name": "ipython",
    "version": 3
   },
   "file_extension": ".py",
   "mimetype": "text/x-python",
   "name": "python",
   "nbconvert_exporter": "python",
   "pygments_lexer": "ipython3",
   "version": "3.9.7"
  },
  "orig_nbformat": 4,
  "vscode": {
   "interpreter": {
    "hash": "16ef3e8b2bd183aa8d291da52723f387131fa4ec5eafd98310d7c0d336ceaf1b"
   }
  }
 },
 "nbformat": 4,
 "nbformat_minor": 2
}
