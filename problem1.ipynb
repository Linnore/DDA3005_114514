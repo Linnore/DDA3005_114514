{
 "cells": [
  {
   "cell_type": "code",
   "execution_count": 1,
   "metadata": {},
   "outputs": [],
   "source": [
    "import numpy as np\n",
    "import scipy\n",
    "import utils\n",
    "from utils import HouseHolder, QR, SVD\n",
    "\n",
    "%load_ext autoreload\n",
    "%autoreload 2"
   ]
  },
  {
   "cell_type": "markdown",
   "metadata": {},
   "source": [
    "# Problem 1: SVD by Two-Phase Approach"
   ]
  },
  {
   "cell_type": "markdown",
   "metadata": {},
   "source": [
    "## Phase-I: Golub-Kahan Bidiagonalization"
   ]
  },
  {
   "cell_type": "code",
   "execution_count": 2,
   "metadata": {},
   "outputs": [
    {
     "name": "stdout",
     "output_type": "stream",
     "text": [
      "[[-2.23606798e+00  1.11022302e-16  0.00000000e+00  0.00000000e+00]\n",
      " [ 2.04939015e+00  8.39500986e-01 -2.67014343e-18 -4.39009789e-18]\n",
      " [-9.45175510e-17 -5.07346289e-01  1.68458833e+00 -3.33066907e-16]]\n"
     ]
    }
   ],
   "source": [
    "A = np.array([[1, 0, 1],\n",
    "              [2, 5**.5, 0],\n",
    "              [0, 0, 1],\n",
    "              [0, 0, 1]])\n",
    "B, Qt, P = SVD.svd_phaseI(A.T)\n",
    "print(B)\n"
   ]
  },
  {
   "cell_type": "code",
   "execution_count": 3,
   "metadata": {},
   "outputs": [
    {
     "data": {
      "text/plain": [
       "(4, 4)"
      ]
     },
     "execution_count": 3,
     "metadata": {},
     "output_type": "execute_result"
    }
   ],
   "source": [
    "P.shape"
   ]
  },
  {
   "cell_type": "code",
   "execution_count": 4,
   "metadata": {},
   "outputs": [
    {
     "data": {
      "text/plain": [
       "array([[-2.23606798e+00, -1.11022302e-16,  5.55111512e-17],\n",
       "       [ 2.04939015e+00,  8.39500986e-01, -5.55111512e-17],\n",
       "       [ 1.11022302e-16, -5.07346289e-01,  1.68458833e+00]])"
      ]
     },
     "execution_count": 4,
     "metadata": {},
     "output_type": "execute_result"
    }
   ],
   "source": [
    "Qt @ A.T @ P[:, :3]"
   ]
  },
  {
   "cell_type": "markdown",
   "metadata": {},
   "source": [
    "Todo: We may not need to form the reflection matrix H explicitly during Golub-Kahan bidiagonalization."
   ]
  },
  {
   "cell_type": "markdown",
   "metadata": {},
   "source": [
    "## Phase-II-A"
   ]
  },
  {
   "cell_type": "code",
   "execution_count": 5,
   "metadata": {},
   "outputs": [
    {
     "data": {
      "text/plain": [
       "(array([2.18034422e-47, 3.36223240e-01, 3.11464321e+00, 9.54913355e+00]),\n",
       " array([[ 0.00000000e+00,  1.80654708e-01, -8.67828811e-02,\n",
       "          9.79710471e-01],\n",
       "        [ 5.22941363e-18, -9.30726841e-01,  3.06954677e-01,\n",
       "          1.98812407e-01],\n",
       "        [ 1.99289064e-16, -3.17980225e-01, -9.47759230e-01,\n",
       "         -2.53183491e-02],\n",
       "        [ 1.00000000e+00,  6.82371370e-17,  1.87272857e-16,\n",
       "          4.00599778e-18]]))"
      ]
     },
     "execution_count": 5,
     "metadata": {},
     "output_type": "execute_result"
    }
   ],
   "source": [
    "scipy.linalg.eigh(B.T@B)"
   ]
  },
  {
   "cell_type": "markdown",
   "metadata": {},
   "source": [
    "**Test SVD**"
   ]
  },
  {
   "cell_type": "code",
   "execution_count": 6,
   "metadata": {},
   "outputs": [
    {
     "data": {
      "text/plain": [
       "'%.8f'"
      ]
     },
     "execution_count": 6,
     "metadata": {},
     "output_type": "execute_result"
    }
   ],
   "source": [
    "%precision 8"
   ]
  },
  {
   "cell_type": "code",
   "execution_count": 33,
   "metadata": {},
   "outputs": [
    {
     "data": {
      "text/plain": [
       "(array([[-0.26444298,  0.60575682, -0.75041894],\n",
       "        [-0.96312812, -0.2058522 ,  0.17323137],\n",
       "        [-0.03502958,  0.54345356,  0.45103343],\n",
       "        [-0.03502958,  0.54345356,  0.45103343]]),\n",
       " array([3.09016724, 1.76483518, 0.5798476 ]),\n",
       " array([[ 0.70892578,  0.69692666,  0.10824726],\n",
       "        [ 0.10995498, -0.26081728,  0.95910596],\n",
       "        [-0.69665927,  0.66803262,  0.26153065]]))"
      ]
     },
     "execution_count": 33,
     "metadata": {},
     "output_type": "execute_result"
    }
   ],
   "source": [
    "SVD.svd(A)"
   ]
  },
  {
   "cell_type": "code",
   "execution_count": null,
   "metadata": {},
   "outputs": [
    {
     "data": {
      "text/plain": [
       "(array([[-0.26444298,  0.60575682,  0.75041894],\n",
       "        [-0.96312812, -0.2058522 , -0.17323137],\n",
       "        [-0.03502958,  0.54345356, -0.45103343],\n",
       "        [-0.03502958,  0.54345356, -0.45103343]]),\n",
       " array([3.09016724, 1.76483518, 0.5798476 ]),\n",
       " array([[-0.70892578, -0.69692666, -0.10824726],\n",
       "        [ 0.10995498, -0.26081728,  0.95910596],\n",
       "        [ 0.69665927, -0.66803262, -0.26153065]]))"
      ]
     },
     "execution_count": 11,
     "metadata": {},
     "output_type": "execute_result"
    }
   ],
   "source": [
    "scipy.linalg.svd(A, full_matrices=False)"
   ]
  },
  {
   "cell_type": "markdown",
   "metadata": {},
   "source": []
  }
 ],
 "metadata": {
  "kernelspec": {
   "display_name": "Python 3.9.7 ('base')",
   "language": "python",
   "name": "python3"
  },
  "language_info": {
   "codemirror_mode": {
    "name": "ipython",
    "version": 3
   },
   "file_extension": ".py",
   "mimetype": "text/x-python",
   "name": "python",
   "nbconvert_exporter": "python",
   "pygments_lexer": "ipython3",
   "version": "3.9.7"
  },
  "orig_nbformat": 4,
  "vscode": {
   "interpreter": {
    "hash": "16ef3e8b2bd183aa8d291da52723f387131fa4ec5eafd98310d7c0d336ceaf1b"
   }
  }
 },
 "nbformat": 4,
 "nbformat_minor": 2
}
