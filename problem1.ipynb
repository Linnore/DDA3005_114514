{
 "cells": [
  {
   "cell_type": "code",
   "execution_count": 1,
   "metadata": {},
   "outputs": [],
   "source": [
    "import numpy as np\n",
    "import scipy\n",
    "import utils\n",
    "from time import time\n",
    "from utils import HouseHolder, QR, SVD\n",
    "\n",
    "%load_ext autoreload\n",
    "%autoreload 2"
   ]
  },
  {
   "cell_type": "markdown",
   "metadata": {},
   "source": [
    "# Problem 1: SVD by Two-Phase Approach"
   ]
  },
  {
   "cell_type": "markdown",
   "metadata": {},
   "source": [
    "## Phase-I: Golub-Kahan Bidiagonalization"
   ]
  },
  {
   "cell_type": "code",
   "execution_count": 2,
   "metadata": {},
   "outputs": [
    {
     "name": "stdout",
     "output_type": "stream",
     "text": [
      "[[ 2. -5.  0.  0.]\n",
      " [ 0.  0.  0.  0.]\n",
      " [ 0.  0. -1.  0.]\n",
      " [ 0.  0.  0.  0.]\n",
      " [ 0.  0.  0.  0.]\n",
      " [ 0.  0.  0.  0.]\n",
      " [ 0.  0.  0.  0.]]\n"
     ]
    }
   ],
   "source": [
    "A = np.array([[0, 0, 0, 0],\n",
    "              [0, 0, 0, 0],\n",
    "              [0, 0, 1, 0],\n",
    "              [0, 0, 0, 0],\n",
    "              [2, 5, 0, 0],\n",
    "              [0, 0, 0, 0],\n",
    "              [0, 0, 0, 0]], dtype=np.float64)\n",
    "\n",
    "\n",
    "# A = np.array([[1, 0, 1],\n",
    "#               [2, 5**.5, 0],\n",
    "#               [0, 0, 1],\n",
    "#               [0, 0, 1]])\n",
    "B, Qt, P = SVD.svd_phaseI(A)\n",
    "print(B)\n"
   ]
  },
  {
   "cell_type": "code",
   "execution_count": 3,
   "metadata": {},
   "outputs": [
    {
     "name": "stdout",
     "output_type": "stream",
     "text": [
      "[[ 2. -5.  0.  0.]\n",
      " [ 0.  0.  0.  0.]\n",
      " [ 0.  0. -1.  0.]\n",
      " [ 0.  0.  0.  0.]\n",
      " [ 0.  0.  0.  0.]\n",
      " [ 0.  0.  0.  0.]\n",
      " [ 0.  0.  0.  0.]]\n"
     ]
    }
   ],
   "source": [
    "print(Qt @ A @ P)"
   ]
  },
  {
   "attachments": {},
   "cell_type": "markdown",
   "metadata": {},
   "source": [
    "## Phase-II"
   ]
  },
  {
   "cell_type": "code",
   "execution_count": 4,
   "metadata": {},
   "outputs": [],
   "source": [
    "m = n = 500\n",
    "A = np.random.rand(m,n)"
   ]
  },
  {
   "attachments": {},
   "cell_type": "markdown",
   "metadata": {},
   "source": [
    "**Test Fast Multiplication for A@B, where B is upper bidiagonal matrix.**"
   ]
  },
  {
   "cell_type": "code",
   "execution_count": 5,
   "metadata": {},
   "outputs": [],
   "source": [
    "B, _, _ = SVD.svd_phaseI(A)"
   ]
  },
  {
   "cell_type": "code",
   "execution_count": 6,
   "metadata": {},
   "outputs": [
    {
     "data": {
      "text/plain": [
       "4.359565258026123"
      ]
     },
     "execution_count": 6,
     "metadata": {},
     "output_type": "execute_result"
    }
   ],
   "source": [
    "numpy_mul_begin = time()\n",
    "for i in range(2000):\n",
    "    A@B\n",
    "numpy_mul_end = time()\n",
    "numpy_mul_end - numpy_mul_begin"
   ]
  },
  {
   "cell_type": "code",
   "execution_count": 7,
   "metadata": {},
   "outputs": [
    {
     "data": {
      "text/plain": [
       "5.630804061889648"
      ]
     },
     "execution_count": 7,
     "metadata": {},
     "output_type": "execute_result"
    }
   ],
   "source": [
    "fastMul_begin = time()\n",
    "for i in range(2000):\n",
    "    SVD.fastMult_upper_bidiagonal(A, B)\n",
    "fastMul_end = time()\n",
    "fastMul_end - fastMul_begin"
   ]
  },
  {
   "cell_type": "markdown",
   "metadata": {},
   "source": [
    "**Test SVD**"
   ]
  },
  {
   "attachments": {},
   "cell_type": "markdown",
   "metadata": {},
   "source": [
    "Choose the parameter phaseII as 'A', 'B1', 'B2' to test different implementations of phase II"
   ]
  },
  {
   "cell_type": "code",
   "execution_count": 8,
   "metadata": {},
   "outputs": [],
   "source": [
    "m = 1024\n",
    "n = 1024\n",
    "A = np.random.rand(m,n)"
   ]
  },
  {
   "cell_type": "code",
   "execution_count": 15,
   "metadata": {},
   "outputs": [
    {
     "name": "stdout",
     "output_type": "stream",
     "text": [
      "phaseI: 11.5287s\n",
      "phaseII: 58.4604s\n",
      "Percentage of entrices successfully recovered by SVD with accuracy: 1e-13\n",
      "100.0 %\n"
     ]
    }
   ],
   "source": [
    "U, S, Vt = SVD.svd(A, phaseII='A')\n",
    "acc = 1e-13\n",
    "print(\"Percentage of entrices successfully recovered by SVD with accuracy: {}\".format(acc))\n",
    "print(np.sum(np.abs(U@np.diag(S)@Vt - A)< acc) / (n*m) * 100, \"%\")"
   ]
  },
  {
   "attachments": {},
   "cell_type": "markdown",
   "metadata": {},
   "source": [
    "**Accuracy Test:**"
   ]
  },
  {
   "cell_type": "code",
   "execution_count": 10,
   "metadata": {},
   "outputs": [
    {
     "name": "stdout",
     "output_type": "stream",
     "text": [
      "Percentage of entrices successfully recovered by SVD with accuracy: 1e-13\n",
      "100.0 %\n"
     ]
    }
   ],
   "source": [
    "acc = 1e-13\n",
    "print(\"Percentage of entrices successfully recovered by SVD with accuracy: {}\".format(acc))\n",
    "print(np.sum(np.abs(U@np.diag(S)@Vt - A)< acc) / (n*m) * 100, \"%\")"
   ]
  },
  {
   "cell_type": "markdown",
   "metadata": {},
   "source": [
    "**Scipy SVD**"
   ]
  },
  {
   "cell_type": "code",
   "execution_count": 11,
   "metadata": {},
   "outputs": [
    {
     "name": "stdout",
     "output_type": "stream",
     "text": [
      "Percentage of entrices successfully recovered by SVD with accuracy: 1e-13\n",
      "100.0 %\n"
     ]
    }
   ],
   "source": [
    "U, S, Vt  = scipy.linalg.svd(A, full_matrices=False)\n",
    "# print(np.abs(U@np.diag(S)@Vt - A))\n",
    "acc = 1e-13\n",
    "print(\"Percentage of entrices successfully recovered by SVD with accuracy: {}\".format(acc))\n",
    "print(np.sum(np.abs(U@np.diag(S)@Vt - A)< acc) / (n*m) * 100, \"%\")\n",
    "# U, S, Vt"
   ]
  },
  {
   "cell_type": "markdown",
   "metadata": {},
   "source": [
    "## Test for p2"
   ]
  },
  {
   "cell_type": "code",
   "execution_count": 95,
   "metadata": {},
   "outputs": [
    {
     "name": "stdout",
     "output_type": "stream",
     "text": [
      "1.0\n",
      "3.054936363499605e-151\n",
      "[1.8051e-03 1.7101e-03 1.6185e-03 1.5301e-03 1.4450e-03 1.3630e-03\n",
      " 1.2841e-03 1.2082e-03 1.1354e-03 1.0654e-03 9.9823e-04 9.3386e-04\n",
      " 8.7223e-04 8.1325e-04 7.5689e-04 7.0307e-04 6.5174e-04 6.0285e-04\n",
      " 5.5634e-04 5.1215e-04 4.7023e-04 4.3053e-04 3.9299e-04 3.5756e-04\n",
      " 3.2419e-04 2.9282e-04 2.6340e-04 2.3588e-04 2.1021e-04 1.8633e-04\n",
      " 1.6419e-04 1.4374e-04 1.2493e-04 1.0770e-04 9.2005e-05 7.7786e-05\n",
      " 6.4989e-05 5.3559e-05 4.3439e-05 3.4572e-05 2.6896e-05 2.0351e-05\n",
      " 1.4872e-05 1.0393e-05 6.8405e-06 4.1415e-06 2.2224e-06 1.0023e-06\n",
      " 3.5212e-07]\n"
     ]
    }
   ],
   "source": [
    "n=500\n",
    "k = 5\n",
    "A = np.array(np.diag([1/2]*n, 0)+np.diag([3/8]*(n-1), 1)+np.diag([1/8]*(n-1), -1))\n",
    "print(A[5].sum())\n",
    "\n",
    "print(np.prod(A.diagonal()))\n",
    "A = np.linalg.matrix_power(A, k)\n",
    "B, Qt, P = SVD.svd_phaseI(A)\n",
    "U, T, Vt = SVD.svd_phaseII(B, Qt, P, phaseII=\"B1\", eigen=QR.eigh_of_BBT)\n",
    "# U, T, Vt = SVD.svd(A, phaseII=\"B1\")\n",
    "print(T)"
   ]
  }
 ],
 "metadata": {
  "kernelspec": {
   "display_name": "Python 3.9.7 ('base')",
   "language": "python",
   "name": "python3"
  },
  "language_info": {
   "codemirror_mode": {
    "name": "ipython",
    "version": 3
   },
   "file_extension": ".py",
   "mimetype": "text/x-python",
   "name": "python",
   "nbconvert_exporter": "python",
   "pygments_lexer": "ipython3",
   "version": "3.9.7"
  },
  "orig_nbformat": 4,
  "vscode": {
   "interpreter": {
    "hash": "16ef3e8b2bd183aa8d291da52723f387131fa4ec5eafd98310d7c0d336ceaf1b"
   }
  }
 },
 "nbformat": 4,
 "nbformat_minor": 2
}
