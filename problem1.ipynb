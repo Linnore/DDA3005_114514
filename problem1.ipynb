{
 "cells": [
  {
   "cell_type": "code",
   "execution_count": 1,
   "metadata": {},
   "outputs": [],
   "source": [
    "import numpy as np\n",
    "import scipy\n",
    "import utils\n",
    "from time import time\n",
    "from utils import HouseHolder, QR, SVD\n",
    "\n",
    "%load_ext autoreload\n",
    "%autoreload 2"
   ]
  },
  {
   "cell_type": "markdown",
   "metadata": {},
   "source": [
    "# Problem 1: SVD by Two-Phase Approach"
   ]
  },
  {
   "cell_type": "markdown",
   "metadata": {},
   "source": [
    "## Phase-I: Golub-Kahan Bidiagonalization"
   ]
  },
  {
   "cell_type": "code",
   "execution_count": 2,
   "metadata": {},
   "outputs": [
    {
     "name": "stdout",
     "output_type": "stream",
     "text": [
      "[[ 0.  2.  0.  0.  0.  0.  0.]\n",
      " [ 0. -5.  0.  0.  0.  0.  0.]\n",
      " [ 0.  0. -1.  0.  0.  0.  0.]\n",
      " [ 0.  0.  0.  0.  0.  0.  0.]]\n"
     ]
    }
   ],
   "source": [
    "A = np.array([[0, 0, 0, 0],\n",
    "              [0, 0, 0, 0],\n",
    "              [0, 0, 1, 0],\n",
    "              [0, 0, 0, 0],\n",
    "              [2, 5, 0, 0],\n",
    "              [0, 0, 0, 0],\n",
    "              [0, 0, 0, 0]], dtype=np.float64).T\n",
    "\n",
    "\n",
    "# A = np.array([[1, 0, 1],\n",
    "#               [2, 5**.5, 0],\n",
    "#               [0, 0, 1],\n",
    "#               [0, 0, 1]])\n",
    "B, Qt, P = SVD.svd_phaseI(A)\n",
    "print(B)\n"
   ]
  },
  {
   "cell_type": "code",
   "execution_count": 3,
   "metadata": {},
   "outputs": [
    {
     "name": "stdout",
     "output_type": "stream",
     "text": [
      "[[ 0.  2.  0.  0.  0.  0.  0.]\n",
      " [ 0. -5.  0.  0.  0.  0.  0.]\n",
      " [ 0.  0. -1.  0.  0.  0.  0.]\n",
      " [ 0.  0.  0.  0.  0.  0.  0.]]\n"
     ]
    }
   ],
   "source": [
    "print(Qt @ A @ P)"
   ]
  },
  {
   "attachments": {},
   "cell_type": "markdown",
   "metadata": {},
   "source": [
    "## Phase-II"
   ]
  },
  {
   "cell_type": "code",
   "execution_count": 4,
   "metadata": {},
   "outputs": [],
   "source": [
    "m = n = 500\n",
    "A = np.random.rand(m,n)"
   ]
  },
  {
   "attachments": {},
   "cell_type": "markdown",
   "metadata": {},
   "source": [
    "**Test Fast Multiplication for A@B, where B is upper bidiagonal matrix.**"
   ]
  },
  {
   "cell_type": "code",
   "execution_count": 5,
   "metadata": {},
   "outputs": [],
   "source": [
    "B, _, _ = SVD.svd_phaseI(A)"
   ]
  },
  {
   "cell_type": "code",
   "execution_count": 6,
   "metadata": {},
   "outputs": [
    {
     "data": {
      "text/plain": [
       "4.825413227081299"
      ]
     },
     "execution_count": 6,
     "metadata": {},
     "output_type": "execute_result"
    }
   ],
   "source": [
    "numpy_mul_begin = time()\n",
    "for i in range(2000):\n",
    "    A@B\n",
    "numpy_mul_end = time()\n",
    "numpy_mul_end - numpy_mul_begin"
   ]
  },
  {
   "cell_type": "code",
   "execution_count": 7,
   "metadata": {},
   "outputs": [
    {
     "data": {
      "text/plain": [
       "6.074538469314575"
      ]
     },
     "execution_count": 7,
     "metadata": {},
     "output_type": "execute_result"
    }
   ],
   "source": [
    "fastMul_begin = time()\n",
    "for i in range(2000):\n",
    "    SVD.fastMult_upper_bidiagonal(A, B)\n",
    "fastMul_end = time()\n",
    "fastMul_end - fastMul_begin"
   ]
  },
  {
   "cell_type": "markdown",
   "metadata": {},
   "source": [
    "**Test SVD**"
   ]
  },
  {
   "attachments": {},
   "cell_type": "markdown",
   "metadata": {},
   "source": [
    "Choose the parameter phaseII as 'A', 'B1', 'B2' to test different implementations of phase II"
   ]
  },
  {
   "cell_type": "code",
   "execution_count": 33,
   "metadata": {},
   "outputs": [],
   "source": [
    "m = 1024\n",
    "n = 1024\n",
    "A = np.random.rand(m,n)"
   ]
  },
  {
   "cell_type": "code",
   "execution_count": 36,
   "metadata": {},
   "outputs": [
    {
     "name": "stdout",
     "output_type": "stream",
     "text": [
      "phaseI: 11.507385s\n",
      "phaseII: 58.388663s\n",
      "Percentage of entrices successfully recovered by SVD with accuracy: 1e-13\n",
      "100.0 %\n"
     ]
    }
   ],
   "source": [
    "U, S, Vt = SVD.svd(A, phaseII='A')\n",
    "acc = 1e-13\n",
    "print(\"Percentage of entrices successfully recovered by SVD with accuracy: {}\".format(acc))\n",
    "print(np.sum(np.abs(U@np.diag(S)@Vt - A)< acc) / (n*m) * 100, \"%\")"
   ]
  },
  {
   "attachments": {},
   "cell_type": "markdown",
   "metadata": {},
   "source": [
    "**Accuracy Test:**"
   ]
  },
  {
   "cell_type": "code",
   "execution_count": 10,
   "metadata": {},
   "outputs": [
    {
     "name": "stdout",
     "output_type": "stream",
     "text": [
      "Percentage of entrices successfully recovered by SVD with accuracy: 1e-13\n",
      "100.0 %\n"
     ]
    }
   ],
   "source": [
    "acc = 1e-13\n",
    "print(\"Percentage of entrices successfully recovered by SVD with accuracy: {}\".format(acc))\n",
    "print(np.sum(np.abs(U@np.diag(S)@Vt - A)< acc) / (n*m) * 100, \"%\")"
   ]
  },
  {
   "cell_type": "markdown",
   "metadata": {},
   "source": [
    "**Scipy SVD**"
   ]
  },
  {
   "cell_type": "code",
   "execution_count": 11,
   "metadata": {},
   "outputs": [
    {
     "name": "stdout",
     "output_type": "stream",
     "text": [
      "Percentage of entrices successfully recovered by SVD with accuracy: 1e-13\n",
      "100.0 %\n"
     ]
    }
   ],
   "source": [
    "U, S, Vt  = scipy.linalg.svd(A, full_matrices=False)\n",
    "# print(np.abs(U@np.diag(S)@Vt - A))\n",
    "acc = 1e-13\n",
    "print(\"Percentage of entrices successfully recovered by SVD with accuracy: {}\".format(acc))\n",
    "print(np.sum(np.abs(U@np.diag(S)@Vt - A)< acc) / (n*m) * 100, \"%\")\n",
    "# U, S, Vt"
   ]
  },
  {
   "cell_type": "markdown",
   "metadata": {},
   "source": []
  }
 ],
 "metadata": {
  "kernelspec": {
   "display_name": "Python 3.9.7 ('base')",
   "language": "python",
   "name": "python3"
  },
  "language_info": {
   "codemirror_mode": {
    "name": "ipython",
    "version": 3
   },
   "file_extension": ".py",
   "mimetype": "text/x-python",
   "name": "python",
   "nbconvert_exporter": "python",
   "pygments_lexer": "ipython3",
   "version": "3.9.7"
  },
  "orig_nbformat": 4,
  "vscode": {
   "interpreter": {
    "hash": "16ef3e8b2bd183aa8d291da52723f387131fa4ec5eafd98310d7c0d336ceaf1b"
   }
  }
 },
 "nbformat": 4,
 "nbformat_minor": 2
}
