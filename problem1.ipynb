{
 "cells": [
  {
   "cell_type": "code",
   "execution_count": 124,
   "metadata": {},
   "outputs": [
    {
     "name": "stdout",
     "output_type": "stream",
     "text": [
      "The autoreload extension is already loaded. To reload it, use:\n",
      "  %reload_ext autoreload\n"
     ]
    }
   ],
   "source": [
    "import numpy as np\n",
    "import scipy\n",
    "from utils.SVD import svd_phaseI, svd_phaseIIA, svd, eigh_by_QR\n",
    "\n",
    "%load_ext autoreload\n",
    "%autoreload 2"
   ]
  },
  {
   "cell_type": "markdown",
   "metadata": {},
   "source": [
    "# Problem 1: SVD by Two-Phase Approach"
   ]
  },
  {
   "cell_type": "markdown",
   "metadata": {},
   "source": [
    "## Phase-I: Golub-Kahan Bidiagonalization"
   ]
  },
  {
   "cell_type": "code",
   "execution_count": 125,
   "metadata": {},
   "outputs": [
    {
     "name": "stdout",
     "output_type": "stream",
     "text": [
      "[[-2.23606798e+00  2.04939015e+00 -9.45175510e-17]\n",
      " [ 1.11022302e-16  8.39500986e-01 -5.07346289e-01]\n",
      " [ 0.00000000e+00 -2.67014343e-18  1.68458833e+00]\n",
      " [ 0.00000000e+00 -4.39009789e-18 -3.33066907e-16]]\n"
     ]
    }
   ],
   "source": [
    "A = np.array([[1, 0, 1],\n",
    "              [2, 5**.5, 0],\n",
    "              [0, 0, 1],\n",
    "              [0, 0, 1]])\n",
    "B, Qt, P = svd_phaseI(A)\n",
    "print(B)\n"
   ]
  },
  {
   "cell_type": "code",
   "execution_count": 126,
   "metadata": {},
   "outputs": [
    {
     "data": {
      "text/plain": [
       "array([[-2.23606798e+00,  2.04939015e+00,  9.45175510e-17],\n",
       "       [-1.11022302e-16,  8.39500986e-01, -5.07346289e-01],\n",
       "       [ 5.55111512e-17, -2.00911092e-17,  1.68458833e+00]])"
      ]
     },
     "execution_count": 126,
     "metadata": {},
     "output_type": "execute_result"
    }
   ],
   "source": [
    "Qt[:3, :] @ A @ P"
   ]
  },
  {
   "cell_type": "markdown",
   "metadata": {},
   "source": [
    "Todo: We may not need to form the reflection matrix H explicitly during Golub-Kahan bidiagonalization."
   ]
  },
  {
   "cell_type": "markdown",
   "metadata": {},
   "source": [
    "## Phase-II-A"
   ]
  },
  {
   "cell_type": "code",
   "execution_count": 127,
   "metadata": {},
   "outputs": [
    {
     "data": {
      "text/plain": [
       "(array([9.54913355, 3.11464321, 0.33622324]),\n",
       " array([[ 0.70892578, -0.10995498, -0.69665927],\n",
       "        [-0.70375227, -0.04523752, -0.70900374],\n",
       "        [ 0.04644335,  0.99290658, -0.10945111]]))"
      ]
     },
     "execution_count": 127,
     "metadata": {},
     "output_type": "execute_result"
    }
   ],
   "source": [
    "T, Q = eigh_by_QR(B.T@B)\n",
    "T, Q"
   ]
  },
  {
   "cell_type": "code",
   "execution_count": 128,
   "metadata": {},
   "outputs": [
    {
     "data": {
      "text/plain": [
       "(array([0.33622324, 3.11464321, 9.54913355]),\n",
       " array([[ 0.69665927, -0.10995498,  0.70892578],\n",
       "        [ 0.70900374, -0.04523752, -0.70375227],\n",
       "        [ 0.10945111,  0.99290658,  0.04644335]]))"
      ]
     },
     "execution_count": 128,
     "metadata": {},
     "output_type": "execute_result"
    }
   ],
   "source": [
    "scipy.linalg.eigh(B.T@B)"
   ]
  },
  {
   "cell_type": "markdown",
   "metadata": {},
   "source": [
    "**Test SVD**"
   ]
  },
  {
   "cell_type": "code",
   "execution_count": 129,
   "metadata": {},
   "outputs": [
    {
     "data": {
      "text/plain": [
       "'%.8f'"
      ]
     },
     "execution_count": 129,
     "metadata": {},
     "output_type": "execute_result"
    }
   ],
   "source": [
    "%precision 8"
   ]
  },
  {
   "cell_type": "code",
   "execution_count": 130,
   "metadata": {},
   "outputs": [
    {
     "data": {
      "text/plain": [
       "(array([[-0.26444298, -0.60575682, -0.75041894],\n",
       "        [-0.96312812,  0.2058522 ,  0.17323137],\n",
       "        [-0.03502958, -0.54345356,  0.45103343],\n",
       "        [-0.03502958, -0.54345356,  0.45103343]]),\n",
       " array([3.09016724, 1.76483518, 0.5798476 ]),\n",
       " array([[ 0.70892578,  0.69692666,  0.10824726],\n",
       "        [-0.10995498,  0.26081728, -0.95910596],\n",
       "        [-0.69665927,  0.66803262,  0.26153065]]))"
      ]
     },
     "execution_count": 130,
     "metadata": {},
     "output_type": "execute_result"
    }
   ],
   "source": [
    "svd(A)"
   ]
  },
  {
   "cell_type": "code",
   "execution_count": 131,
   "metadata": {},
   "outputs": [
    {
     "data": {
      "text/plain": [
       "(array([[-0.26444298,  0.60575682,  0.75041894],\n",
       "        [-0.96312812, -0.2058522 , -0.17323137],\n",
       "        [-0.03502958,  0.54345356, -0.45103343],\n",
       "        [-0.03502958,  0.54345356, -0.45103343]]),\n",
       " array([3.09016724, 1.76483518, 0.5798476 ]),\n",
       " array([[-0.70892578, -0.69692666, -0.10824726],\n",
       "        [ 0.10995498, -0.26081728,  0.95910596],\n",
       "        [ 0.69665927, -0.66803262, -0.26153065]]))"
      ]
     },
     "execution_count": 131,
     "metadata": {},
     "output_type": "execute_result"
    }
   ],
   "source": [
    "scipy.linalg.svd(A, full_matrices=False)"
   ]
  },
  {
   "cell_type": "markdown",
   "metadata": {},
   "source": []
  }
 ],
 "metadata": {
  "kernelspec": {
   "display_name": "Python 3.9.7 ('base')",
   "language": "python",
   "name": "python3"
  },
  "language_info": {
   "codemirror_mode": {
    "name": "ipython",
    "version": 3
   },
   "file_extension": ".py",
   "mimetype": "text/x-python",
   "name": "python",
   "nbconvert_exporter": "python",
   "pygments_lexer": "ipython3",
   "version": "3.9.7"
  },
  "orig_nbformat": 4,
  "vscode": {
   "interpreter": {
    "hash": "16ef3e8b2bd183aa8d291da52723f387131fa4ec5eafd98310d7c0d336ceaf1b"
   }
  }
 },
 "nbformat": 4,
 "nbformat_minor": 2
}
