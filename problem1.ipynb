{
 "cells": [
  {
   "cell_type": "code",
   "execution_count": 8,
   "metadata": {},
   "outputs": [
    {
     "ename": "NameError",
     "evalue": "name 'eigh_by_QR' is not defined",
     "output_type": "error",
     "traceback": [
      "\u001b[1;31m---------------------------------------------------------------------------\u001b[0m",
      "\u001b[1;31mNameError\u001b[0m                                 Traceback (most recent call last)",
      "\u001b[1;32md:\\Codes\\Repo\\DDA3005_114514\\problem1.ipynb Cell 1\u001b[0m in \u001b[0;36m<cell line: 5>\u001b[1;34m()\u001b[0m\n\u001b[0;32m      <a href='vscode-notebook-cell:/d%3A/Codes/Repo/DDA3005_114514/problem1.ipynb#W0sZmlsZQ%3D%3D?line=2'>3</a>\u001b[0m \u001b[39mimport\u001b[39;00m \u001b[39mutils\u001b[39;00m\n\u001b[0;32m      <a href='vscode-notebook-cell:/d%3A/Codes/Repo/DDA3005_114514/problem1.ipynb#W0sZmlsZQ%3D%3D?line=3'>4</a>\u001b[0m \u001b[39mfrom\u001b[39;00m \u001b[39mtime\u001b[39;00m \u001b[39mimport\u001b[39;00m time\n\u001b[1;32m----> <a href='vscode-notebook-cell:/d%3A/Codes/Repo/DDA3005_114514/problem1.ipynb#W0sZmlsZQ%3D%3D?line=4'>5</a>\u001b[0m \u001b[39mfrom\u001b[39;00m \u001b[39mutils\u001b[39;00m \u001b[39mimport\u001b[39;00m QR_Factorization, EVD, SVD, Bidiagonal_fastMult\n\u001b[0;32m      <a href='vscode-notebook-cell:/d%3A/Codes/Repo/DDA3005_114514/problem1.ipynb#W0sZmlsZQ%3D%3D?line=5'>6</a>\u001b[0m np\u001b[39m.\u001b[39mset_printoptions(precision\u001b[39m=\u001b[39m\u001b[39m7\u001b[39m)\n\u001b[0;32m      <a href='vscode-notebook-cell:/d%3A/Codes/Repo/DDA3005_114514/problem1.ipynb#W0sZmlsZQ%3D%3D?line=6'>7</a>\u001b[0m get_ipython()\u001b[39m.\u001b[39mrun_line_magic(\u001b[39m'\u001b[39m\u001b[39mload_ext\u001b[39m\u001b[39m'\u001b[39m, \u001b[39m'\u001b[39m\u001b[39mautoreload\u001b[39m\u001b[39m'\u001b[39m)\n",
      "File \u001b[1;32md:\\Codes\\Repo\\DDA3005_114514\\utils\\EVD.py:9\u001b[0m, in \u001b[0;36m<module>\u001b[1;34m\u001b[0m\n\u001b[0;32m      7\u001b[0m \u001b[39mfrom\u001b[39;00m \u001b[39m.\u001b[39;00m\u001b[39mBidiagonal_fastMult\u001b[39;00m \u001b[39mimport\u001b[39;00m upper_fastMult_lower_bidiagonal\n\u001b[0;32m      8\u001b[0m \u001b[39mfrom\u001b[39;00m \u001b[39m.\u001b[39;00m\u001b[39mQR_Factorization\u001b[39;00m \u001b[39mimport\u001b[39;00m applyGivenses, qr_tridiagonal_by_Givens, qr_lower_bidiagonal_by_Givens\n\u001b[1;32m----> 9\u001b[0m \u001b[39mfrom\u001b[39;00m \u001b[39m.\u001b[39;00m\u001b[39mSVD\u001b[39;00m \u001b[39mimport\u001b[39;00m is_orthogonal\n\u001b[0;32m     11\u001b[0m \u001b[39mdef\u001b[39;00m \u001b[39mRayleigh_Quotient_Shift\u001b[39m(A: np\u001b[39m.\u001b[39mndarray) \u001b[39m-\u001b[39m\u001b[39m>\u001b[39m \u001b[39mint\u001b[39m:\n\u001b[0;32m     12\u001b[0m     \u001b[39mreturn\u001b[39;00m A[\u001b[39m-\u001b[39m\u001b[39m1\u001b[39m, \u001b[39m-\u001b[39m\u001b[39m1\u001b[39m]\n",
      "File \u001b[1;32md:\\Codes\\Repo\\DDA3005_114514\\utils\\SVD.py:61\u001b[0m, in \u001b[0;36m<module>\u001b[1;34m\u001b[0m\n\u001b[0;32m     56\u001b[0m     Q[i:, i:] \u001b[39m=\u001b[39m Q[i:, i:] \u001b[39m-\u001b[39m w \u001b[39m@\u001b[39m (w\u001b[39m.\u001b[39mT \u001b[39m@\u001b[39m Q[i:, i:])\n\u001b[0;32m     58\u001b[0m     \u001b[39mreturn\u001b[39;00m B, Q\u001b[39m.\u001b[39mT, P\n\u001b[1;32m---> 61\u001b[0m \u001b[39mdef\u001b[39;00m \u001b[39msvd_phaseII\u001b[39m(B: np\u001b[39m.\u001b[39mndarray, Qt: np\u001b[39m.\u001b[39mndarray, P: np\u001b[39m.\u001b[39mndarray, phaseII: \u001b[39mstr\u001b[39m, eigen\u001b[39m=\u001b[39meigh_by_QR, less_as_zero\u001b[39m=\u001b[39m\u001b[39m1e-15\u001b[39m) \u001b[39m-\u001b[39m\u001b[39m>\u001b[39m \u001b[39mtuple\u001b[39m[np\u001b[39m.\u001b[39mndarray, np\u001b[39m.\u001b[39mndarray, np\u001b[39m.\u001b[39mndarray]:\n\u001b[0;32m     62\u001b[0m     \u001b[39m\"\"\"This function implement the phaseII of SVD following the proposed procedure A in project description.\u001b[39;00m\n\u001b[0;32m     63\u001b[0m \n\u001b[0;32m     64\u001b[0m \u001b[39m    Args:\u001b[39;00m\n\u001b[1;32m   (...)\u001b[0m\n\u001b[0;32m     77\u001b[0m \u001b[39m        Vt (np.ndarray): The transepose of the matrix containing right singular vectors of A as columns.\u001b[39;00m\n\u001b[0;32m     78\u001b[0m \u001b[39m    \"\"\"\u001b[39;00m\n\u001b[0;32m     80\u001b[0m     \u001b[39m# Discard the zero rows or columns\u001b[39;00m\n",
      "\u001b[1;31mNameError\u001b[0m: name 'eigh_by_QR' is not defined"
     ]
    }
   ],
   "source": [
    "import numpy as np\n",
    "import scipy.linalg\n",
    "import utils\n",
    "from time import time\n",
    "from utils import QR_Factorization, EVD, SVD, Bidiagonal_fastMult\n",
    "np.set_printoptions(precision=7)\n",
    "%load_ext autoreload\n",
    "%autoreload 2"
   ]
  },
  {
   "cell_type": "markdown",
   "metadata": {},
   "source": [
    "# Problem 1: SVD by Two-Phase Approach"
   ]
  },
  {
   "cell_type": "markdown",
   "metadata": {},
   "source": [
    "## Phase-I: Golub-Kahan Bidiagonalization"
   ]
  },
  {
   "cell_type": "code",
   "execution_count": null,
   "metadata": {},
   "outputs": [],
   "source": [
    "A = np.array([[0, 0, 0, 0],\n",
    "              [0, 0, 0, 0],\n",
    "              [0, 0, 1, 0],\n",
    "              [0, 0, 0, 0],\n",
    "              [2, 5, 0, 0],\n",
    "              [0, 0, 0, 0],\n",
    "              [0, 0, 0, 0]], dtype=np.float64)\n",
    "B, Qt, P = SVD.svd_phaseI(A)\n",
    "print(B)\n"
   ]
  },
  {
   "attachments": {},
   "cell_type": "markdown",
   "metadata": {},
   "source": [
    "## Phase-II"
   ]
  },
  {
   "cell_type": "code",
   "execution_count": null,
   "metadata": {},
   "outputs": [],
   "source": [
    "m = n = 1024\n",
    "A = np.random.rand(m,n)"
   ]
  },
  {
   "attachments": {},
   "cell_type": "markdown",
   "metadata": {},
   "source": [
    "**Test Fast Multiplication for A@B, where B is upper bidiagonal matrix.**"
   ]
  },
  {
   "attachments": {},
   "cell_type": "markdown",
   "metadata": {},
   "source": [
    "Numpy @ might use multi-thread to accelerate the computation. But our implementation is O(n^2) which is theoretically more effcient."
   ]
  },
  {
   "cell_type": "code",
   "execution_count": null,
   "metadata": {},
   "outputs": [],
   "source": [
    "B, _, _ = SVD.svd_phaseI(A)"
   ]
  },
  {
   "attachments": {},
   "cell_type": "markdown",
   "metadata": {},
   "source": [
    "Test for `fastMult_upper_bidiagonal`"
   ]
  },
  {
   "cell_type": "code",
   "execution_count": null,
   "metadata": {},
   "outputs": [],
   "source": [
    "numpy_mul_begin = time()\n",
    "for i in range(1000):\n",
    "    A@B\n",
    "numpy_mul_end = time()\n",
    "print(\"{:.4f}s\".format(numpy_mul_end - numpy_mul_begin))"
   ]
  },
  {
   "cell_type": "code",
   "execution_count": null,
   "metadata": {},
   "outputs": [],
   "source": [
    "fastMul_begin = time()\n",
    "for i in range(1000):\n",
    "    Bidiagonal_fastMult.fastMult_upper_bidiagonal(A, B)\n",
    "fastMul_end = time()\n",
    "print(\"{:.4f}s\".format(fastMul_end - fastMul_begin))"
   ]
  },
  {
   "attachments": {},
   "cell_type": "markdown",
   "metadata": {},
   "source": [
    "Test for `upper_fastMult_lower_bidiagonal`\n"
   ]
  },
  {
   "cell_type": "code",
   "execution_count": null,
   "metadata": {},
   "outputs": [],
   "source": [
    "numpy_mul_begin = time()\n",
    "for i in range(1000):\n",
    "    B@B.T\n",
    "numpy_mul_end = time()\n",
    "print(\"{:.4f}s\".format(numpy_mul_end - numpy_mul_begin))"
   ]
  },
  {
   "cell_type": "code",
   "execution_count": null,
   "metadata": {},
   "outputs": [],
   "source": [
    "fastMul_begin = time()\n",
    "for i in range(1000):\n",
    "    Bidiagonal_fastMult.upper_fastMult_lower_bidiagonal(B, B.T)\n",
    "fastMul_end = time()\n",
    "print(\"{:.4f}s\".format(fastMul_end - fastMul_begin))"
   ]
  },
  {
   "attachments": {},
   "cell_type": "markdown",
   "metadata": {},
   "source": [
    "Test for `qr_tridiagonal_by_Givens` and `qr_lower_bidiagonal_by_Givens`"
   ]
  },
  {
   "cell_type": "code",
   "execution_count": null,
   "metadata": {},
   "outputs": [],
   "source": [
    "begin = time()\n",
    "for i in range(100):\n",
    "    QR_Factorization.qr_tridiagonal_by_Givens(B.T, return_Givens=True)\n",
    "end = time()\n",
    "print(\"{:.4f}s\".format(end-begin))"
   ]
  },
  {
   "cell_type": "code",
   "execution_count": null,
   "metadata": {},
   "outputs": [],
   "source": [
    "begin = time()\n",
    "for i in range(100):\n",
    "    QR_Factorization.qr_lower_bidiagonal_by_Givens(B.T, return_Givens=True)\n",
    "end = time()\n",
    "print(\"{:.4f}s\".format(end-begin))"
   ]
  },
  {
   "cell_type": "markdown",
   "metadata": {},
   "source": [
    "**Test SVD**"
   ]
  },
  {
   "attachments": {},
   "cell_type": "markdown",
   "metadata": {},
   "source": [
    "Choose the parameter phaseII as 'A', 'B1', 'B2' to test different implementations of phase II"
   ]
  },
  {
   "cell_type": "code",
   "execution_count": null,
   "metadata": {},
   "outputs": [],
   "source": [
    "m = 150\n",
    "n = 150\n",
    "A = np.random.rand(m,n)\n",
    "A[n-50:n] = A[n-50:n] * 1000"
   ]
  },
  {
   "cell_type": "code",
   "execution_count": null,
   "metadata": {},
   "outputs": [],
   "source": [
    "U, S, Vt = SVD.svd(A, phaseII='A')\n",
    "# U, S, Vt = SVD.svd(A, phaseII='A2')\n",
    "# U, S, Vt = SVD.svd(A, phaseII='B')\n",
    "# U, S, Vt = SVD.svd(A, phaseII='B2')\n",
    "# U, S, Vt = SVD.svd(A, phaseII='C')\n",
    "_, Ss, _  = scipy.linalg.svd(A, full_matrices=False)\n",
    "\n",
    "SVD.accuracy_test(A, U, S, Vt, acc=1e-8)"
   ]
  },
  {
   "attachments": {},
   "cell_type": "markdown",
   "metadata": {},
   "source": [
    "**Accuracy Test:**"
   ]
  },
  {
   "attachments": {},
   "cell_type": "markdown",
   "metadata": {},
   "source": [
    "Modify acc as you like!"
   ]
  },
  {
   "cell_type": "code",
   "execution_count": null,
   "metadata": {},
   "outputs": [],
   "source": [
    "SVD.accuracy_test(A, U, S, Vt, acc=1e-8)"
   ]
  },
  {
   "cell_type": "markdown",
   "metadata": {},
   "source": [
    "**Scipy SVD**"
   ]
  },
  {
   "cell_type": "code",
   "execution_count": null,
   "metadata": {},
   "outputs": [],
   "source": [
    "U, Ss, Vt  = scipy.linalg.svd(A, full_matrices=False)\n",
    "# print(np.abs(U@np.diag(S)@Vt - A))\n",
    "acc = 1e-8\n",
    "print(\"Percentage of entrices successfully recovered by SVD with accuracy: {}\".format(acc))\n",
    "print(np.sum(np.abs(U@np.diag(Ss)@Vt - A)< acc) / (n*m) * 100, \"%\")\n",
    "# U, S, Vt"
   ]
  },
  {
   "cell_type": "markdown",
   "metadata": {},
   "source": [
    "## Test for p2"
   ]
  },
  {
   "cell_type": "code",
   "execution_count": null,
   "metadata": {},
   "outputs": [
    {
     "name": "stdout",
     "output_type": "stream",
     "text": [
      "phaseI: 8.5002s\n",
      "phaseII: 1.4014s\n",
      "phaseI: 9.1840s\n",
      "phaseII: 4.5385s\n"
     ]
    }
   ],
   "source": [
    "m = n = 1000\n",
    "k = 66\n",
    "A = np.array(np.diag([1/4.1]*n, 0)+np.diag([1/4.1]*(n-1), 1)+np.diag([2.1/4.1]*(n-1), -1))\n",
    "\n",
    "A = np.linalg.matrix_power(A, k)\n",
    "\n",
    "U_std, S_std, Vt_std  = scipy.linalg.svd(A, full_matrices=False)\n",
    "Ut_std = U_std.T\n",
    "V_std = Vt_std.T\n",
    "\n",
    "UA, SA, VAt = SVD.svd(A, phaseII=\"A\")\n",
    "UAt = UA.T\n",
    "VA = VAt.T\n",
    "\n",
    "UD, SD, VDt = SVD.svd(A, phaseII=\"B\")\n",
    "UDt = UD.T\n",
    "VD = VDt.T"
   ]
  },
  {
   "cell_type": "code",
   "execution_count": null,
   "metadata": {},
   "outputs": [
    {
     "name": "stdout",
     "output_type": "stream",
     "text": [
      "0\n"
     ]
    },
    {
     "ename": "NameError",
     "evalue": "name 'np' is not defined",
     "output_type": "error",
     "traceback": [
      "\u001b[1;31m---------------------------------------------------------------------------\u001b[0m",
      "\u001b[1;31mNameError\u001b[0m                                 Traceback (most recent call last)",
      "\u001b[1;32md:\\Codes\\Repo\\DDA3005_114514\\problem1.ipynb Cell 30\u001b[0m in \u001b[0;36m<cell line: 1>\u001b[1;34m()\u001b[0m\n\u001b[0;32m      <a href='vscode-notebook-cell:/d%3A/Codes/Repo/DDA3005_114514/problem1.ipynb#X56sZmlsZQ%3D%3D?line=2'>3</a>\u001b[0m n \u001b[39m=\u001b[39m m\n\u001b[0;32m      <a href='vscode-notebook-cell:/d%3A/Codes/Repo/DDA3005_114514/problem1.ipynb#X56sZmlsZQ%3D%3D?line=3'>4</a>\u001b[0m k \u001b[39m=\u001b[39m \u001b[39m66\u001b[39m\n\u001b[1;32m----> <a href='vscode-notebook-cell:/d%3A/Codes/Repo/DDA3005_114514/problem1.ipynb#X56sZmlsZQ%3D%3D?line=4'>5</a>\u001b[0m A \u001b[39m=\u001b[39m np\u001b[39m.\u001b[39marray(np\u001b[39m.\u001b[39mdiag([\u001b[39m1\u001b[39m\u001b[39m/\u001b[39m\u001b[39m4.1\u001b[39m]\u001b[39m*\u001b[39mn, \u001b[39m0\u001b[39m)\u001b[39m+\u001b[39mnp\u001b[39m.\u001b[39mdiag([\u001b[39m1\u001b[39m\u001b[39m/\u001b[39m\u001b[39m4.1\u001b[39m]\u001b[39m*\u001b[39m(n\u001b[39m-\u001b[39m\u001b[39m1\u001b[39m), \u001b[39m1\u001b[39m)\u001b[39m+\u001b[39mnp\u001b[39m.\u001b[39mdiag([\u001b[39m2.1\u001b[39m\u001b[39m/\u001b[39m\u001b[39m4.1\u001b[39m]\u001b[39m*\u001b[39m(n\u001b[39m-\u001b[39m\u001b[39m1\u001b[39m), \u001b[39m-\u001b[39m\u001b[39m1\u001b[39m))\n\u001b[0;32m      <a href='vscode-notebook-cell:/d%3A/Codes/Repo/DDA3005_114514/problem1.ipynb#X56sZmlsZQ%3D%3D?line=5'>6</a>\u001b[0m A \u001b[39m=\u001b[39m np\u001b[39m.\u001b[39mlinalg\u001b[39m.\u001b[39mmatrix_power(A, k)\n\u001b[0;32m      <a href='vscode-notebook-cell:/d%3A/Codes/Repo/DDA3005_114514/problem1.ipynb#X56sZmlsZQ%3D%3D?line=6'>7</a>\u001b[0m UB, SB, VBt \u001b[39m=\u001b[39m SVD\u001b[39m.\u001b[39msvd(A, phaseII\u001b[39m=\u001b[39m\u001b[39m\"\u001b[39m\u001b[39mA\u001b[39m\u001b[39m\"\u001b[39m)\n",
      "\u001b[1;31mNameError\u001b[0m: name 'np' is not defined"
     ]
    }
   ],
   "source": [
    "accuracy = []\n",
    "time = []\n",
    "for m in range(0, 1001, 100):\n",
    "    print(m)\n",
    "    n = m\n",
    "    k = 66\n",
    "    A = np.array(np.diag([1/4.1]*n, 0)+np.diag([1/4.1]*(n-1), 1)+np.diag([2.1/4.1]*(n-1), -1))\n",
    "    A = np.linalg.matrix_power(A, k)\n",
    "    UA, SA, VAt,time_ps1,time_ps2 = SVD.svd(A, phaseII=\"A\", timed = True)\n",
    "    accuracy.append(SVD.accuracy_test(A, UA, SA, VAt, acc=1e-8)) \n",
    "    time.append((time_ps1, time_ps2))"
   ]
  },
  {
   "cell_type": "code",
   "execution_count": 9,
   "metadata": {},
   "outputs": [
    {
     "name": "stdout",
     "output_type": "stream",
     "text": [
      "0\n"
     ]
    },
    {
     "ename": "NameError",
     "evalue": "name 'SVD' is not defined",
     "output_type": "error",
     "traceback": [
      "\u001b[1;31m---------------------------------------------------------------------------\u001b[0m",
      "\u001b[1;31mNameError\u001b[0m                                 Traceback (most recent call last)",
      "\u001b[1;32md:\\Codes\\Repo\\DDA3005_114514\\problem1.ipynb Cell 31\u001b[0m in \u001b[0;36m<cell line: 1>\u001b[1;34m()\u001b[0m\n\u001b[0;32m      <a href='vscode-notebook-cell:/d%3A/Codes/Repo/DDA3005_114514/problem1.ipynb#X60sZmlsZQ%3D%3D?line=4'>5</a>\u001b[0m A \u001b[39m=\u001b[39m np\u001b[39m.\u001b[39mrandom\u001b[39m.\u001b[39mrand(m, n)\n\u001b[0;32m      <a href='vscode-notebook-cell:/d%3A/Codes/Repo/DDA3005_114514/problem1.ipynb#X60sZmlsZQ%3D%3D?line=5'>6</a>\u001b[0m A \u001b[39m=\u001b[39m np\u001b[39m.\u001b[39mlinalg\u001b[39m.\u001b[39mmatrix_power(A, k)\n\u001b[1;32m----> <a href='vscode-notebook-cell:/d%3A/Codes/Repo/DDA3005_114514/problem1.ipynb#X60sZmlsZQ%3D%3D?line=6'>7</a>\u001b[0m UB, SB, VBt \u001b[39m=\u001b[39m SVD\u001b[39m.\u001b[39msvd(A, phaseII\u001b[39m=\u001b[39m\u001b[39m\"\u001b[39m\u001b[39mA\u001b[39m\u001b[39m\"\u001b[39m)\n\u001b[0;32m      <a href='vscode-notebook-cell:/d%3A/Codes/Repo/DDA3005_114514/problem1.ipynb#X60sZmlsZQ%3D%3D?line=7'>8</a>\u001b[0m SVD\u001b[39m.\u001b[39maccuracy_test(A, UB, SB, VBt, acc\u001b[39m=\u001b[39m\u001b[39m1e-8\u001b[39m)\n",
      "\u001b[1;31mNameError\u001b[0m: name 'SVD' is not defined"
     ]
    }
   ],
   "source": [
    "accuracy = []\n",
    "time = []\n",
    "for m in range(0, 201, 10):\n",
    "    print(m)\n",
    "    n = m\n",
    "    k = 66\n",
    "    A = np.random.rand(m, n)\n",
    "    A = np.linalg.matrix_power(A, k)\n",
    "    UA, SA, VAt,time_ps1,time_ps2 = SVD.svd(A, phaseII=\"A\", timed = True)\n",
    "    accuracy.append(SVD.accuracy_test(A, UA, SA, VAt, acc=1e-8)) \n",
    "    time.append((time_ps1, time_ps2))"
   ]
  },
  {
   "cell_type": "code",
   "execution_count": null,
   "metadata": {},
   "outputs": [
    {
     "name": "stdout",
     "output_type": "stream",
     "text": [
      "phaseI: 8.2986s\n",
      "phaseII: 2.4373s\n",
      "Percentage of entrices successfully recovered by SVD with accuracy: 1e-08\n",
      "15.0468 %\n",
      "Percentage of singular values with accuracy: 1e-08\n",
      "100.0 %\n",
      "Max error of singular values:\n",
      "3.5638159090467525e-14\n"
     ]
    }
   ],
   "source": [
    "accuracy = []\n",
    "time = []\n",
    "for m in range(0, 1001, 100):\n",
    "    print(m)\n",
    "    n = m\n",
    "    k = 66\n",
    "    A = np.array(np.diag([1/4.1]*n, 0)+np.diag([1/4.1]*(n-1), 1)+np.diag([2.1/4.1]*(n-1), -1))\n",
    "    A = np.linalg.matrix_power(A, k)\n",
    "    UB, SB, VBt,time_ps1,time_ps2 = SVD.svd(A, phaseII=\"B\", timed = True)\n",
    "    accuracy.append(SVD.accuracy_test(A, UB, SB, VBt, acc=1e-8)) \n",
    "    time.append((time_ps1, time_ps2))"
   ]
  },
  {
   "cell_type": "code",
   "execution_count": null,
   "metadata": {},
   "outputs": [
    {
     "name": "stdout",
     "output_type": "stream",
     "text": [
      "phaseI: 0.0828s\n",
      "phaseII: 0.6237s\n",
      "Percentage of entrices successfully recovered by SVD with accuracy: 1e-08\n",
      "100.0 %\n",
      "Percentage of singular values with accuracy: 1e-08\n",
      "100.0 %\n",
      "Max error of singular values:\n",
      "2.473923843560044e-13\n"
     ]
    }
   ],
   "source": [
    "accuracy = []\n",
    "time = []\n",
    "for m in range(0, 201, 10):\n",
    "    print(m)\n",
    "    n = m\n",
    "    k = 66\n",
    "    A = np.random.rand(m, n)\n",
    "    A = np.linalg.matrix_power(A, k)\n",
    "    UB, SB, VBt,time_ps1,time_ps2 = SVD.svd(A, phaseII=\"B\", timed = True)\n",
    "    accuracy.append(SVD.accuracy_test(A, UB, SB, VBt, acc=1e-8)) \n",
    "    time.append((time_ps1, time_ps2))"
   ]
  },
  {
   "attachments": {},
   "cell_type": "markdown",
   "metadata": {},
   "source": [
    "Test if columns of V and U are orthogonal"
   ]
  },
  {
   "cell_type": "code",
   "execution_count": null,
   "metadata": {},
   "outputs": [
    {
     "name": "stdout",
     "output_type": "stream",
     "text": [
      "2.1094237467877974e-15\n",
      "1.0\n",
      "2.90878432451791e-14\n",
      "2.4424906541753444e-15\n",
      "1.0\n",
      "0.9842804077231385\n",
      "0.41677215250453287\n"
     ]
    }
   ],
   "source": [
    "print(np.max(np.identity(np.shape((V_std.T@V_std))[0]) - V_std.T @ V_std))\n",
    "print(np.max(np.identity(np.shape((VA.T@VA))[0]) - VA.T @ VA))\n",
    "print(np.max(np.identity(np.shape((VD.T@VD))[0]) - VD.T @ VD))\n",
    "print(np.max(np.identity(np.shape((U_std.T@U_std))[0]) - U_std.T @ U_std))\n",
    "print(np.max(np.identity(np.shape((UA.T@UA))[0]) - UA.T @ UA))\n",
    "print(np.max(np.identity(np.shape((UD@UD.T))[0]) - UD@UD.T))\n",
    "print(np.max(U_std[:,:370]-UD))"
   ]
  },
  {
   "cell_type": "code",
   "execution_count": null,
   "metadata": {},
   "outputs": [],
   "source": [
    "print(np.abs(VD @ np.diag(SD) @ UDt - A.T))\n",
    "print(np.max(np.abs(UD @ np.diag(SD) @ VDt- A)))"
   ]
  },
  {
   "attachments": {},
   "cell_type": "markdown",
   "metadata": {},
   "source": [
    "Test the accuracy of the pseudoinverse returned by A"
   ]
  },
  {
   "cell_type": "code",
   "execution_count": null,
   "metadata": {},
   "outputs": [],
   "source": [
    "for i in range(0,truncation):\n",
    "    print(np.max(np.outer(V_std[:,i],Ut_std[:,i])/S_std[i] - np.outer(VA[:,i],UA[:,i])/SA[i]), S_std[i], SA[i])\n",
    "    print(np.max(np.outer(V_std[:,i],Ut_std[:,i])/S_std[i] - np.outer(VD[:,i],UD[:,i])/SD[i]), S_std[i], SD[i])\n",
    "    print(\"________________________________________________\")"
   ]
  },
  {
   "attachments": {},
   "cell_type": "markdown",
   "metadata": {},
   "source": [
    "Test the accuracy of the pseudoinverse returned by B"
   ]
  },
  {
   "attachments": {},
   "cell_type": "markdown",
   "metadata": {},
   "source": [
    "Modify acc as you like!"
   ]
  },
  {
   "cell_type": "code",
   "execution_count": null,
   "metadata": {},
   "outputs": [],
   "source": [
    "SVD.accuracy_test(A, U, S, Vt, acc=1e-8)"
   ]
  },
  {
   "cell_type": "code",
   "execution_count": null,
   "metadata": {},
   "outputs": [],
   "source": [
    "print(\"Percentage of entrices successfully recovered by SVD with accuracy: {}\".format(acc))\n",
    "print(np.sum(np.abs(U@np.diag(S)@Vt - A)< acc) / (n*m) * 100, \"%\")\n",
    "acc = 1e-8\n",
    "print(\"Percentage of entrices of pseudoinverse successfully recovered by SVD with accuracy: {}\".format(acc))\n",
    "print(np.sum(np.abs(Vt.T@np.diag(S)@U.T - np.linalg.inv(A))< acc) / (n*m) * 100, \"%\")"
   ]
  },
  {
   "cell_type": "code",
   "execution_count": null,
   "metadata": {},
   "outputs": [],
   "source": []
  }
 ],
 "metadata": {
  "kernelspec": {
   "display_name": "Python 3",
   "language": "python",
   "name": "python3"
  },
  "language_info": {
   "codemirror_mode": {
    "name": "ipython",
    "version": 3
   },
   "file_extension": ".py",
   "mimetype": "text/x-python",
   "name": "python",
   "nbconvert_exporter": "python",
   "pygments_lexer": "ipython3",
   "version": "3.10.4"
  },
  "orig_nbformat": 4,
  "vscode": {
   "interpreter": {
    "hash": "41f2c36dba965539b3b5b1a452b2e4e0ddff6087df4c95f88099f95d32667815"
   }
  }
 },
 "nbformat": 4,
 "nbformat_minor": 2
}
