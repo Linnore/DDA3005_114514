{
 "cells": [
  {
   "cell_type": "code",
   "execution_count": 59,
   "metadata": {},
   "outputs": [
    {
     "name": "stdout",
     "output_type": "stream",
     "text": [
      "The autoreload extension is already loaded. To reload it, use:\n",
      "  %reload_ext autoreload\n"
     ]
    }
   ],
   "source": [
    "import numpy as np\n",
    "import scipy\n",
    "import utils\n",
    "from utils import HouseHolder, QR, SVD\n",
    "\n",
    "%load_ext autoreload\n",
    "%autoreload 2"
   ]
  },
  {
   "cell_type": "markdown",
   "metadata": {},
   "source": [
    "# Problem 1: SVD by Two-Phase Approach"
   ]
  },
  {
   "cell_type": "markdown",
   "metadata": {},
   "source": [
    "## Phase-I: Golub-Kahan Bidiagonalization"
   ]
  },
  {
   "cell_type": "code",
   "execution_count": 60,
   "metadata": {},
   "outputs": [
    {
     "data": {
      "text/plain": [
       "'%.8f'"
      ]
     },
     "execution_count": 60,
     "metadata": {},
     "output_type": "execute_result"
    }
   ],
   "source": [
    "%precision 8"
   ]
  },
  {
   "cell_type": "code",
   "execution_count": 61,
   "metadata": {},
   "outputs": [
    {
     "name": "stdout",
     "output_type": "stream",
     "text": [
      "[[-2.23606798e+00  2.04939015e+00 -9.45175510e-17]\n",
      " [ 1.11022302e-16  8.39500986e-01 -5.07346289e-01]\n",
      " [ 0.00000000e+00 -2.67014343e-18  1.68458833e+00]\n",
      " [ 0.00000000e+00 -4.39009789e-18 -3.33066907e-16]]\n"
     ]
    }
   ],
   "source": [
    "# A = np.array([[0, 0, 0, 0],\n",
    "#               [0, 0, 0, 0],\n",
    "#               [0, 0, 1, 0],\n",
    "#               [0, 0, 0, 0],\n",
    "#               [2, 5, 0, 0],\n",
    "#               [0, 0, 0, 0],\n",
    "#               [0, 0, 0, 0]], dtype=np.float64)\n",
    "\n",
    "\n",
    "A = np.array([[1, 0, 1],\n",
    "              [2, 5**.5, 0],\n",
    "              [0, 0, 1],\n",
    "              [0, 0, 1]])\n",
    "B, Qt, P = SVD.svd_phaseI(A)\n",
    "print(B)\n"
   ]
  },
  {
   "cell_type": "code",
   "execution_count": 62,
   "metadata": {},
   "outputs": [
    {
     "name": "stdout",
     "output_type": "stream",
     "text": [
      "[[-2.23606798e+00  2.04939015e+00  9.45175510e-17]\n",
      " [-1.11022302e-16  8.39500986e-01 -5.07346289e-01]\n",
      " [ 5.55111512e-17 -2.00911092e-17  1.68458833e+00]\n",
      " [ 8.12941988e-18 -9.34729845e-18 -4.52965907e-16]]\n"
     ]
    }
   ],
   "source": [
    "print(Qt @ A @ P)"
   ]
  },
  {
   "cell_type": "markdown",
   "metadata": {},
   "source": [
    "Todo: We may not need to form the reflection matrix H explicitly during Golub-Kahan bidiagonalization."
   ]
  },
  {
   "cell_type": "markdown",
   "metadata": {},
   "source": [
    "## Phase-II-A"
   ]
  },
  {
   "cell_type": "markdown",
   "metadata": {},
   "source": [
    "**Test SVD**"
   ]
  },
  {
   "cell_type": "code",
   "execution_count": 63,
   "metadata": {},
   "outputs": [
    {
     "data": {
      "text/plain": [
       "'%.4f'"
      ]
     },
     "execution_count": 63,
     "metadata": {},
     "output_type": "execute_result"
    }
   ],
   "source": [
    "%precision 4"
   ]
  },
  {
   "cell_type": "code",
   "execution_count": 67,
   "metadata": {},
   "outputs": [
    {
     "name": "stdout",
     "output_type": "stream",
     "text": [
      "[[-0.1586 -1.139   0.8231]\n",
      " [-2.2198 -1.9124 -0.6443]\n",
      " [-0.1535 -0.1509  0.9766]\n",
      " [-0.1535 -0.1509  0.9766]]\n"
     ]
    },
    {
     "data": {
      "text/plain": [
       "(array([[-0.2644,  0.6058, -0.7504],\n",
       "        [-0.9631, -0.2059,  0.1732],\n",
       "        [-0.035 ,  0.5435,  0.451 ],\n",
       "        [-0.035 ,  0.5435,  0.451 ]]),\n",
       " array([3.0902, 1.7648, 0.5798]),\n",
       " array([[ 0.7089,  0.6969,  0.1082],\n",
       "        [ 0.11  , -0.2608,  0.9591],\n",
       "        [-0.6967,  0.668 ,  0.2615]]))"
      ]
     },
     "execution_count": 67,
     "metadata": {},
     "output_type": "execute_result"
    }
   ],
   "source": [
    "U, S, Vt = SVD.svd(A)\n",
    "print(U@np.diag(S)@Vt)\n",
    "U, S, Vt"
   ]
  },
  {
   "cell_type": "code",
   "execution_count": 70,
   "metadata": {},
   "outputs": [
    {
     "name": "stdout",
     "output_type": "stream",
     "text": [
      "[[ 1.0000e+00 -1.2494e-16  1.0000e+00]\n",
      " [ 2.0000e+00  2.2361e+00 -1.8200e-16]\n",
      " [-2.9816e-17 -1.3617e-16  1.0000e+00]\n",
      " [-2.3894e-17 -1.1752e-16  1.0000e+00]]\n"
     ]
    },
    {
     "data": {
      "text/plain": [
       "(array([[-0.2644,  0.6058,  0.7504],\n",
       "        [-0.9631, -0.2059, -0.1732],\n",
       "        [-0.035 ,  0.5435, -0.451 ],\n",
       "        [-0.035 ,  0.5435, -0.451 ]]),\n",
       " array([3.0902, 1.7648, 0.5798]),\n",
       " array([[-0.7089, -0.6969, -0.1082],\n",
       "        [ 0.11  , -0.2608,  0.9591],\n",
       "        [ 0.6967, -0.668 , -0.2615]]))"
      ]
     },
     "execution_count": 70,
     "metadata": {},
     "output_type": "execute_result"
    }
   ],
   "source": [
    "U, S, Vt  = scipy.linalg.svd(A, full_matrices=False)\n",
    "print(U@np.diag(S)@Vt)\n",
    "U, S, Vt"
   ]
  },
  {
   "cell_type": "markdown",
   "metadata": {},
   "source": []
  }
 ],
 "metadata": {
  "kernelspec": {
   "display_name": "Python 3.9.7 ('base')",
   "language": "python",
   "name": "python3"
  },
  "language_info": {
   "codemirror_mode": {
    "name": "ipython",
    "version": 3
   },
   "file_extension": ".py",
   "mimetype": "text/x-python",
   "name": "python",
   "nbconvert_exporter": "python",
   "pygments_lexer": "ipython3",
   "version": "3.9.7"
  },
  "orig_nbformat": 4,
  "vscode": {
   "interpreter": {
    "hash": "16ef3e8b2bd183aa8d291da52723f387131fa4ec5eafd98310d7c0d336ceaf1b"
   }
  }
 },
 "nbformat": 4,
 "nbformat_minor": 2
}
