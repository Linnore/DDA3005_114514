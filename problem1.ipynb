{
 "cells": [
  {
   "cell_type": "code",
   "execution_count": 1,
   "metadata": {},
   "outputs": [],
   "source": [
    "import numpy as np\n",
    "import scipy\n",
    "import utils\n",
    "from utils import HouseHolder, QR, SVD\n",
    "\n",
    "%load_ext autoreload\n",
    "%autoreload 2"
   ]
  },
  {
   "cell_type": "markdown",
   "metadata": {},
   "source": [
    "# Problem 1: SVD by Two-Phase Approach"
   ]
  },
  {
   "cell_type": "markdown",
   "metadata": {},
   "source": [
    "## Phase-I: Golub-Kahan Bidiagonalization"
   ]
  },
  {
   "cell_type": "code",
   "execution_count": 2,
   "metadata": {},
   "outputs": [
    {
     "data": {
      "text/plain": [
       "'%.8f'"
      ]
     },
     "execution_count": 2,
     "metadata": {},
     "output_type": "execute_result"
    }
   ],
   "source": [
    "%precision 8"
   ]
  },
  {
   "cell_type": "code",
   "execution_count": 3,
   "metadata": {},
   "outputs": [
    {
     "name": "stdout",
     "output_type": "stream",
     "text": [
      "[[ 2.  0.  0.  0.  0.  0.  0.]\n",
      " [-5.  0.  0.  0.  0.  0.  0.]\n",
      " [ 0.  0. -1.  0.  0.  0.  0.]\n",
      " [ 0.  0.  0.  0.  0.  0.  0.]]\n"
     ]
    }
   ],
   "source": [
    "A = np.array([[0, 0, 0, 0],\n",
    "              [0, 0, 0, 0],\n",
    "              [0, 0, 1, 0],\n",
    "              [0, 0, 0, 0],\n",
    "              [2, 5, 0, 0],\n",
    "              [0, 0, 0, 0],\n",
    "              [0, 0, 0, 0]], dtype=np.float64).T\n",
    "\n",
    "\n",
    "# A = np.array([[1, 0, 1],\n",
    "#               [2, 5**.5, 0],\n",
    "#               [0, 0, 1],\n",
    "#               [0, 0, 1]])\n",
    "B, Qt, P = SVD.svd_phaseI(A)\n",
    "print(B)\n"
   ]
  },
  {
   "cell_type": "code",
   "execution_count": 4,
   "metadata": {},
   "outputs": [
    {
     "name": "stdout",
     "output_type": "stream",
     "text": [
      "[[ 2.  0.  0.  0.  0.  0.  0.]\n",
      " [-5.  0.  0.  0.  0.  0.  0.]\n",
      " [ 0.  0. -1.  0.  0.  0.  0.]\n",
      " [ 0.  0.  0.  0.  0.  0.  0.]]\n"
     ]
    }
   ],
   "source": [
    "print(Qt @ A @ P)"
   ]
  },
  {
   "cell_type": "markdown",
   "metadata": {},
   "source": [
    "Todo: We may not need to form the reflection matrix H explicitly during Golub-Kahan bidiagonalization."
   ]
  },
  {
   "cell_type": "markdown",
   "metadata": {},
   "source": [
    "## Phase-II-A"
   ]
  },
  {
   "cell_type": "markdown",
   "metadata": {},
   "source": [
    "**Test SVD**"
   ]
  },
  {
   "cell_type": "code",
   "execution_count": 5,
   "metadata": {},
   "outputs": [
    {
     "data": {
      "text/plain": [
       "'%.4f'"
      ]
     },
     "execution_count": 5,
     "metadata": {},
     "output_type": "execute_result"
    }
   ],
   "source": [
    "%precision 4"
   ]
  },
  {
   "cell_type": "code",
   "execution_count": 6,
   "metadata": {},
   "outputs": [],
   "source": [
    "m = 1024\n",
    "n = 1024\n",
    "A = np.random.rand(m,n)\n"
   ]
  },
  {
   "cell_type": "code",
   "execution_count": 7,
   "metadata": {},
   "outputs": [
    {
     "name": "stdout",
     "output_type": "stream",
     "text": [
      "phaseI: 42.5489239692688\n",
      "phaseII: 80.60454821586609\n",
      "1048576\n"
     ]
    },
    {
     "data": {
      "text/plain": [
       "(array([[-0.0304, -0.0228,  0.0123, ...,  0.0422, -0.0239,  0.0598],\n",
       "        [-0.0312, -0.0907,  0.0269, ..., -0.0023,  0.0389,  0.0111],\n",
       "        [-0.032 , -0.0313, -0.0285, ...,  0.019 , -0.0345,  0.0039],\n",
       "        ...,\n",
       "        [-0.0316, -0.0093,  0.0017, ..., -0.0268,  0.0236,  0.0415],\n",
       "        [-0.0312, -0.0009, -0.0135, ..., -0.0367,  0.0471,  0.0342],\n",
       "        [-0.0315, -0.0397, -0.012 , ..., -0.0266, -0.0393, -0.0117]]),\n",
       " array([5.1228e+02, 1.8417e+01, 1.8282e+01, ..., 2.6306e-02, 1.8454e-02,\n",
       "        7.8197e-04]),\n",
       " array([[-0.0312, -0.0319, -0.0322, ..., -0.0308, -0.0316, -0.0321],\n",
       "        [ 0.0436,  0.0134,  0.0366, ...,  0.0112,  0.042 , -0.024 ],\n",
       "        [ 0.0079,  0.1219,  0.0588, ..., -0.0068, -0.055 ,  0.0174],\n",
       "        ...,\n",
       "        [-0.0125,  0.0177,  0.0294, ..., -0.009 ,  0.0309,  0.0069],\n",
       "        [ 0.018 ,  0.0115,  0.0331, ..., -0.0364, -0.0044,  0.0103],\n",
       "        [ 0.0105, -0.0026, -0.0109, ...,  0.0131, -0.0201, -0.0224]]))"
      ]
     },
     "execution_count": 7,
     "metadata": {},
     "output_type": "execute_result"
    }
   ],
   "source": [
    "U, S, Vt = SVD.svd(A)\n",
    "# print(U@np.diag(S)@Vt)\n",
    "# print(np.abs(U@np.diag(S)@Vt - A))\n",
    "print(np.sum(np.abs(U@np.diag(S)@Vt - A)< 1e-13))\n",
    "U, S, Vt"
   ]
  },
  {
   "cell_type": "code",
   "execution_count": 8,
   "metadata": {},
   "outputs": [
    {
     "name": "stdout",
     "output_type": "stream",
     "text": [
      "1048576\n"
     ]
    },
    {
     "data": {
      "text/plain": [
       "(array([[-0.0304, -0.0228, -0.0123, ...,  0.0422,  0.0239, -0.0598],\n",
       "        [-0.0312, -0.0907, -0.0269, ..., -0.0023, -0.0389, -0.0111],\n",
       "        [-0.032 , -0.0313,  0.0285, ...,  0.019 ,  0.0345, -0.0039],\n",
       "        ...,\n",
       "        [-0.0316, -0.0093, -0.0017, ..., -0.0268, -0.0236, -0.0415],\n",
       "        [-0.0312, -0.0009,  0.0135, ..., -0.0367, -0.0471, -0.0342],\n",
       "        [-0.0315, -0.0397,  0.012 , ..., -0.0266,  0.0393,  0.0117]]),\n",
       " array([5.1228e+02, 1.8417e+01, 1.8282e+01, ..., 2.6306e-02, 1.8454e-02,\n",
       "        7.8197e-04]),\n",
       " array([[-0.0312, -0.0319, -0.0322, ..., -0.0308, -0.0316, -0.0321],\n",
       "        [ 0.0436,  0.0134,  0.0366, ...,  0.0112,  0.042 , -0.024 ],\n",
       "        [-0.0079, -0.1219, -0.0588, ...,  0.0068,  0.055 , -0.0174],\n",
       "        ...,\n",
       "        [-0.0125,  0.0177,  0.0294, ..., -0.009 ,  0.0309,  0.0069],\n",
       "        [-0.018 , -0.0115, -0.0331, ...,  0.0364,  0.0044, -0.0103],\n",
       "        [-0.0105,  0.0026,  0.0109, ..., -0.0131,  0.0201,  0.0224]]))"
      ]
     },
     "execution_count": 8,
     "metadata": {},
     "output_type": "execute_result"
    }
   ],
   "source": [
    "U, S, Vt  = scipy.linalg.svd(A, full_matrices=False)\n",
    "# print(np.abs(U@np.diag(S)@Vt - A))\n",
    "print(np.sum(np.abs(U@np.diag(S)@Vt - A)< 1e-13))\n",
    "U, S, Vt"
   ]
  },
  {
   "cell_type": "markdown",
   "metadata": {},
   "source": []
  }
 ],
 "metadata": {
  "kernelspec": {
   "display_name": "Python 3.9.7 ('base')",
   "language": "python",
   "name": "python3"
  },
  "language_info": {
   "codemirror_mode": {
    "name": "ipython",
    "version": 3
   },
   "file_extension": ".py",
   "mimetype": "text/x-python",
   "name": "python",
   "nbconvert_exporter": "python",
   "pygments_lexer": "ipython3",
   "version": "3.9.7"
  },
  "orig_nbformat": 4,
  "vscode": {
   "interpreter": {
    "hash": "16ef3e8b2bd183aa8d291da52723f387131fa4ec5eafd98310d7c0d336ceaf1b"
   }
  }
 },
 "nbformat": 4,
 "nbformat_minor": 2
}
