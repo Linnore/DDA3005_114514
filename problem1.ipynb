{
 "cells": [
  {
   "cell_type": "code",
   "execution_count": 1,
   "metadata": {},
   "outputs": [],
   "source": [
    "import numpy as np\n",
    "import scipy\n",
    "import utils\n",
    "from utils import HouseHolder, QR, SVD\n",
    "\n",
    "%load_ext autoreload\n",
    "%autoreload 2"
   ]
  },
  {
   "cell_type": "markdown",
   "metadata": {},
   "source": [
    "# Problem 1: SVD by Two-Phase Approach"
   ]
  },
  {
   "cell_type": "markdown",
   "metadata": {},
   "source": [
    "## Phase-I: Golub-Kahan Bidiagonalization"
   ]
  },
  {
   "cell_type": "code",
   "execution_count": 4,
   "metadata": {},
   "outputs": [
    {
     "name": "stdout",
     "output_type": "stream",
     "text": [
      "[[ 2.  0.  0.  0.  0.  0.  0.]\n",
      " [-5.  0.  0.  0.  0.  0.  0.]\n",
      " [ 0.  0. -1.  0.  0.  0.  0.]\n",
      " [ 0.  0.  0.  0.  0.  0.  0.]]\n"
     ]
    }
   ],
   "source": [
    "A = np.array([[0, 0, 0, 0],\n",
    "              [0, 0, 0, 0],\n",
    "              [0, 0, 1, 0],\n",
    "              [0, 0, 0, 0],\n",
    "              [2, 5, 0, 0],\n",
    "              [0, 0, 0, 0],\n",
    "              [0, 0, 0, 0]], dtype=np.float64).T\n",
    "\n",
    "\n",
    "# A = np.array([[1, 0, 1],\n",
    "#               [2, 5**.5, 0],\n",
    "#               [0, 0, 1],\n",
    "#               [0, 0, 1]])\n",
    "B, Qt, P = SVD.svd_phaseI(A)\n",
    "print(B)\n"
   ]
  },
  {
   "cell_type": "code",
   "execution_count": 5,
   "metadata": {},
   "outputs": [
    {
     "name": "stdout",
     "output_type": "stream",
     "text": [
      "[[ 2.  0.  0.  0.  0.  0.  0.]\n",
      " [-5.  0.  0.  0.  0.  0.  0.]\n",
      " [ 0.  0. -1.  0.  0.  0.  0.]\n",
      " [ 0.  0.  0.  0.  0.  0.  0.]]\n"
     ]
    }
   ],
   "source": [
    "print(Qt @ A @ P)"
   ]
  },
  {
   "cell_type": "markdown",
   "metadata": {},
   "source": [
    "Todo: We may not need to form the reflection matrix H explicitly during Golub-Kahan bidiagonalization."
   ]
  },
  {
   "cell_type": "markdown",
   "metadata": {},
   "source": [
    "## Phase-II\n",
    "Choose the parameter phaseII as 'A', 'B1', 'B2' to test different implementations of phase II"
   ]
  },
  {
   "cell_type": "code",
   "execution_count": 2,
   "metadata": {},
   "outputs": [
    {
     "data": {
      "text/plain": [
       "'%.4f'"
      ]
     },
     "execution_count": 2,
     "metadata": {},
     "output_type": "execute_result"
    }
   ],
   "source": [
    "%precision 4"
   ]
  },
  {
   "cell_type": "markdown",
   "metadata": {},
   "source": [
    "**Test SVD**"
   ]
  },
  {
   "cell_type": "code",
   "execution_count": 34,
   "metadata": {},
   "outputs": [],
   "source": [
    "m = n = 10\n",
    "A = np.random.rand(m,n)"
   ]
  },
  {
   "cell_type": "code",
   "execution_count": 36,
   "metadata": {},
   "outputs": [
    {
     "name": "stdout",
     "output_type": "stream",
     "text": [
      "phaseI: 0.0013196468353271484\n",
      "phaseII: 0.020312786102294922\n",
      "# of entrices successfully recovered by SVD with 1e-13:\n",
      "100\n"
     ]
    },
    {
     "data": {
      "text/plain": [
       "(array([[-0.3172, -0.4538, -0.0095,  0.161 , -0.3594,  0.0897, -0.0377,\n",
       "         -0.5788,  0.4332,  0.0783],\n",
       "        [-0.3063,  0.0935,  0.0541,  0.628 , -0.273 ,  0.2324,  0.4242,\n",
       "          0.3117, -0.1293, -0.2791],\n",
       "        [-0.249 , -0.2525,  0.129 ,  0.3802,  0.6435,  0.0302, -0.1739,\n",
       "         -0.2551, -0.4349,  0.1171],\n",
       "        [-0.3521,  0.073 ,  0.4024, -0.1648,  0.0877, -0.2179, -0.3424,\n",
       "          0.0511,  0.17  , -0.6912],\n",
       "        [-0.2505,  0.0225,  0.6027, -0.1126, -0.2922,  0.1554, -0.2582,\n",
       "          0.2792, -0.1263,  0.5391],\n",
       "        [-0.2634,  0.4599, -0.2579,  0.1853, -0.2916, -0.596 , -0.2003,\n",
       "         -0.2235, -0.2492,  0.1607],\n",
       "        [-0.3511,  0.5646,  0.1075, -0.2015,  0.3336,  0.2134,  0.4054,\n",
       "         -0.274 ,  0.2824,  0.1725],\n",
       "        [-0.4551, -0.0584, -0.5774, -0.0461,  0.1632,  0.1902, -0.3421,\n",
       "          0.4443,  0.2474,  0.1245],\n",
       "        [-0.2743, -0.4103,  0.0471, -0.2196,  0.1135, -0.5819,  0.5181,\n",
       "          0.2549,  0.0266,  0.1428],\n",
       "        [-0.2861, -0.1167, -0.2038, -0.5197, -0.2308,  0.2998,  0.1209,\n",
       "         -0.1866, -0.5983, -0.206 ]]),\n",
       " array([5.2801, 1.5139, 1.4108, 1.0027, 0.8792, 0.7457, 0.4993, 0.3019,\n",
       "        0.2562, 0.0417]),\n",
       " array([[-0.2891, -0.3804, -0.3663, -0.2541, -0.3032, -0.2902, -0.2746,\n",
       "         -0.3728, -0.2247, -0.3621],\n",
       "        [ 0.4291, -0.031 , -0.5272,  0.5262,  0.0424,  0.0728, -0.0065,\n",
       "         -0.1218, -0.3028, -0.1784],\n",
       "        [-0.2511,  0.2489, -0.1646,  0.4508, -0.0115, -0.0921, -0.1561,\n",
       "          0.2884, -0.1104, -0.2373],\n",
       "        [-0.119 , -0.4121,  0.3126,  0.1992,  0.4751,  0.1004,  0.5668,\n",
       "         -0.6113,  0.1925, -0.3262],\n",
       "        [ 0.0707, -0.5462, -0.0235, -0.1501,  0.6338,  0.0318,  0.2993,\n",
       "          0.4328,  0.3078, -0.7735],\n",
       "        [-0.0603,  0.0133,  0.049 , -0.2718,  0.2334,  0.2291,  0.1275,\n",
       "          0.196 , -0.5395, -0.1675],\n",
       "        [ 0.0409, -0.1999,  0.6069,  0.051 , -0.2054,  1.1333, -0.6805,\n",
       "         -0.0344, -0.3628, -0.4322],\n",
       "        [-0.0851, -0.2362,  0.1456,  0.1385, -0.8147,  1.0815,  0.011 ,\n",
       "          0.1023,  0.2033, -0.3529],\n",
       "        [-0.0228,  0.7049, -0.3604, -0.3569,  0.2825,  0.2851, -0.138 ,\n",
       "         -0.3663,  0.338 , -0.3003],\n",
       "        [-0.3819, -1.5916,  0.2363,  0.7057, -0.0733, -0.178 ,  0.0025,\n",
       "          0.6873, -0.5163,  1.0577]]))"
      ]
     },
     "execution_count": 36,
     "metadata": {},
     "output_type": "execute_result"
    }
   ],
   "source": [
    "U, S, Vt = SVD.svd(A, phaseII='B2')\n",
    "# print(U@np.diag(S)@Vt)\n",
    "# print(np.abs(U@np.diag(S)@Vt - A))\n",
    "print(\"# of entrices successfully recovered by SVD with accuracy 1e-13:\")\n",
    "print(np.sum(np.abs(U@np.diag(S)@Vt - A)< 1e-13))\n",
    "U, S, Vt"
   ]
  },
  {
   "cell_type": "markdown",
   "metadata": {},
   "source": [
    "**Scipy SVD**"
   ]
  },
  {
   "cell_type": "code",
   "execution_count": 9,
   "metadata": {},
   "outputs": [
    {
     "name": "stdout",
     "output_type": "stream",
     "text": [
      "1048576\n"
     ]
    },
    {
     "data": {
      "text/plain": [
       "(array([[-0.031 , -0.0079, -0.031 , ...,  0.0236, -0.0389,  0.0148],\n",
       "        [-0.0307,  0.0149, -0.0027, ...,  0.0223, -0.075 , -0.0087],\n",
       "        [-0.0299,  0.018 ,  0.0271, ..., -0.0546,  0.0488,  0.0285],\n",
       "        ...,\n",
       "        [-0.0307,  0.0122, -0.0187, ...,  0.0494,  0.0392, -0.0157],\n",
       "        [-0.032 ,  0.0215,  0.0264, ..., -0.0033, -0.0158,  0.0102],\n",
       "        [-0.0307, -0.0016,  0.0182, ...,  0.0572,  0.0323, -0.0378]]),\n",
       " array([5.1205e+02, 1.8386e+01, 1.8278e+01, ..., 1.8997e-02, 1.0529e-02,\n",
       "        1.6051e-03]),\n",
       " array([[-0.0306, -0.0313, -0.0306, ..., -0.0316, -0.0316, -0.0309],\n",
       "        [-0.0113, -0.015 , -0.0339, ...,  0.0244,  0.0364,  0.0505],\n",
       "        [ 0.0049, -0.0784,  0.0272, ...,  0.0052, -0.0015, -0.0652],\n",
       "        ...,\n",
       "        [ 0.0169,  0.0217, -0.0281, ..., -0.0257, -0.0362,  0.0261],\n",
       "        [ 0.0334, -0.0018, -0.0285, ..., -0.0341, -0.0225,  0.0613],\n",
       "        [ 0.0437,  0.0073, -0.0002, ...,  0.0267, -0.0071,  0.0326]]))"
      ]
     },
     "execution_count": 9,
     "metadata": {},
     "output_type": "execute_result"
    }
   ],
   "source": [
    "U, S, Vt  = scipy.linalg.svd(A, full_matrices=False)\n",
    "# print(np.abs(U@np.diag(S)@Vt - A))\n",
    "print(np.sum(np.abs(U@np.diag(S)@Vt - A)< 1e-13))\n",
    "U, S, Vt"
   ]
  },
  {
   "cell_type": "markdown",
   "metadata": {},
   "source": []
  }
 ],
 "metadata": {
  "kernelspec": {
   "display_name": "Python 3.9.7 ('base')",
   "language": "python",
   "name": "python3"
  },
  "language_info": {
   "codemirror_mode": {
    "name": "ipython",
    "version": 3
   },
   "file_extension": ".py",
   "mimetype": "text/x-python",
   "name": "python",
   "nbconvert_exporter": "python",
   "pygments_lexer": "ipython3",
   "version": "3.9.7"
  },
  "orig_nbformat": 4,
  "vscode": {
   "interpreter": {
    "hash": "16ef3e8b2bd183aa8d291da52723f387131fa4ec5eafd98310d7c0d336ceaf1b"
   }
  }
 },
 "nbformat": 4,
 "nbformat_minor": 2
}
