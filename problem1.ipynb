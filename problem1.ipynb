{
 "cells": [
  {
   "cell_type": "code",
   "execution_count": 55,
   "metadata": {},
   "outputs": [
    {
     "name": "stdout",
     "output_type": "stream",
     "text": [
      "The autoreload extension is already loaded. To reload it, use:\n",
      "  %reload_ext autoreload\n"
     ]
    }
   ],
   "source": [
    "import numpy as np\n",
    "import scipy\n",
    "import utils\n",
    "from utils import HouseHolder, QR, SVD\n",
    "\n",
    "%load_ext autoreload\n",
    "%autoreload 2"
   ]
  },
  {
   "cell_type": "markdown",
   "metadata": {},
   "source": [
    "# Problem 1: SVD by Two-Phase Approach"
   ]
  },
  {
   "cell_type": "markdown",
   "metadata": {},
   "source": [
    "## Phase-I: Golub-Kahan Bidiagonalization"
   ]
  },
  {
   "cell_type": "code",
   "execution_count": 56,
   "metadata": {},
   "outputs": [
    {
     "data": {
      "text/plain": [
       "'%.4f'"
      ]
     },
     "execution_count": 56,
     "metadata": {},
     "output_type": "execute_result"
    }
   ],
   "source": [
    "%precision 4"
   ]
  },
  {
   "cell_type": "code",
   "execution_count": 57,
   "metadata": {},
   "outputs": [
    {
     "name": "stdout",
     "output_type": "stream",
     "text": [
      "[[ 0.      2.      0.      0.      0.      0.      0.    ]\n",
      " [ 0.     -2.2361  0.      0.      0.      0.      0.    ]\n",
      " [ 0.      0.     -1.      0.      0.      0.      0.    ]]\n"
     ]
    }
   ],
   "source": [
    "A = np.array([[0, 0, 0,],\n",
    "              [0, 0, 0],\n",
    "              [0, 0, 1],\n",
    "              [0, 0, 0],\n",
    "              [2, 5**.5, 0],\n",
    "              [0, 0, 0],\n",
    "              [0, 0, 0]], dtype=np.float64)\n",
    "B, Qt, P = SVD.svd_phaseI(A.T)\n",
    "print(B)\n"
   ]
  },
  {
   "cell_type": "code",
   "execution_count": 58,
   "metadata": {},
   "outputs": [],
   "source": [
    "# print(Qt @ A.T @ P)"
   ]
  },
  {
   "cell_type": "code",
   "execution_count": 59,
   "metadata": {},
   "outputs": [
    {
     "name": "stdout",
     "output_type": "stream",
     "text": [
      "[[ 4.     -4.4721  0.    ]\n",
      " [-4.4721  5.      0.    ]\n",
      " [ 0.      0.      1.    ]]\n",
      "[[0. 0. 0. 0. 0. 0. 0.]\n",
      " [0. 9. 0. 0. 0. 0. 0.]\n",
      " [0. 0. 1. 0. 0. 0. 0.]\n",
      " [0. 0. 0. 0. 0. 0. 0.]\n",
      " [0. 0. 0. 0. 0. 0. 0.]\n",
      " [0. 0. 0. 0. 0. 0. 0.]\n",
      " [0. 0. 0. 0. 0. 0. 0.]]\n"
     ]
    }
   ],
   "source": [
    "print(B@B.T)\n",
    "print(B.T@B)"
   ]
  },
  {
   "cell_type": "markdown",
   "metadata": {},
   "source": [
    "Todo: We may not need to form the reflection matrix H explicitly during Golub-Kahan bidiagonalization."
   ]
  },
  {
   "cell_type": "markdown",
   "metadata": {},
   "source": [
    "## Phase-II-A"
   ]
  },
  {
   "cell_type": "markdown",
   "metadata": {},
   "source": [
    "**Test SVD**"
   ]
  },
  {
   "cell_type": "code",
   "execution_count": 60,
   "metadata": {},
   "outputs": [
    {
     "data": {
      "text/plain": [
       "'%.8f'"
      ]
     },
     "execution_count": 60,
     "metadata": {},
     "output_type": "execute_result"
    }
   ],
   "source": [
    "%precision 8"
   ]
  },
  {
   "cell_type": "code",
   "execution_count": 61,
   "metadata": {},
   "outputs": [
    {
     "data": {
      "text/plain": [
       "(array([[ 0.,  0.,  0.],\n",
       "        [ 0.,  0., -1.],\n",
       "        [ 0.,  1.,  0.],\n",
       "        [ 0.,  0.,  0.],\n",
       "        [ 1.,  0.,  0.],\n",
       "        [ 0.,  0.,  0.],\n",
       "        [ 0.,  0.,  0.]]),\n",
       " array([3.0000000e+00, 1.0000000e+00, 1.6835466e-08]),\n",
       " array([[ 0.66666667,  0.74535599,  0.        ],\n",
       "        [ 0.        ,  0.        , -1.        ],\n",
       "        [-0.74535599,  0.66666667,  0.        ]]))"
      ]
     },
     "execution_count": 61,
     "metadata": {},
     "output_type": "execute_result"
    }
   ],
   "source": [
    "SVD.svd(A)"
   ]
  },
  {
   "cell_type": "code",
   "execution_count": 62,
   "metadata": {},
   "outputs": [
    {
     "data": {
      "text/plain": [
       "(array([[ 0.,  0.,  0.],\n",
       "        [ 0.,  0.,  1.],\n",
       "        [ 0.,  1.,  0.],\n",
       "        [ 0.,  0.,  0.],\n",
       "        [-1.,  0.,  0.],\n",
       "        [ 0.,  0.,  0.],\n",
       "        [ 0.,  0.,  0.]]),\n",
       " array([3., 1., 0.]),\n",
       " array([[-0.66666667, -0.74535599, -0.        ],\n",
       "        [ 0.        ,  0.        ,  1.        ],\n",
       "        [-0.74535599,  0.66666667,  0.        ]]))"
      ]
     },
     "execution_count": 62,
     "metadata": {},
     "output_type": "execute_result"
    }
   ],
   "source": [
    "scipy.linalg.svd(A, full_matrices=False)"
   ]
  },
  {
   "cell_type": "markdown",
   "metadata": {},
   "source": []
  }
 ],
 "metadata": {
  "kernelspec": {
   "display_name": "Python 3.9.7 ('base')",
   "language": "python",
   "name": "python3"
  },
  "language_info": {
   "codemirror_mode": {
    "name": "ipython",
    "version": 3
   },
   "file_extension": ".py",
   "mimetype": "text/x-python",
   "name": "python",
   "nbconvert_exporter": "python",
   "pygments_lexer": "ipython3",
   "version": "3.9.7"
  },
  "orig_nbformat": 4,
  "vscode": {
   "interpreter": {
    "hash": "16ef3e8b2bd183aa8d291da52723f387131fa4ec5eafd98310d7c0d336ceaf1b"
   }
  }
 },
 "nbformat": 4,
 "nbformat_minor": 2
}
