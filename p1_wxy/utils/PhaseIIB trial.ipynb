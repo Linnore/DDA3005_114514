{
 "cells": [
  {
   "cell_type": "code",
   "execution_count": 13,
   "metadata": {},
   "outputs": [
    {
     "name": "stdout",
     "output_type": "stream",
     "text": [
      "[[ 1.48  0.36  0.    0.  ]\n",
      " [-0.64  0.52  0.    0.  ]\n",
      " [ 0.    0.    1.48  0.36]\n",
      " [ 0.    0.   -0.64  0.52]]\n",
      "[[ 1.48  0.36  0.    0.  ]\n",
      " [-0.64  0.52  0.    0.  ]\n",
      " [ 0.    0.    1.48  0.36]\n",
      " [ 0.    0.   -0.64  0.52]]\n",
      "[[ 0.6  0.8  0.   0. ]\n",
      " [-0.8  0.6  0.   0. ]\n",
      " [ 0.   0.   0.6  0.8]\n",
      " [ 0.   0.  -0.8  0.6]]\n",
      "[[ 0.6  0.8  0.   0. ]\n",
      " [-0.8  0.6  0.   0. ]\n",
      " [ 0.   0.   0.6  0.8]\n",
      " [ 0.   0.  -0.8  0.6]]\n"
     ]
    }
   ],
   "source": [
    "import numpy as np\n",
    "A = np.array([[1, 1, 0, 0], [0, 1, 0, 0], [0, 0, 1, 1], [0, 0, 0, 1]])\n",
    "A1 = np.array([[1, 1, 0, 0], [0, 1, 0, 0], [0, 0, 1, 0], [0, 0, 0, 1]])\n",
    "A2 = np.array([[1, 0, 0, 0], [0, 1, 0, 0], [0, 0, 1, 1], [0, 0, 0, 1]])\n",
    "Q1 = np.array([[0.6, 0.8, 0, 0], [-0.8, 0.6, 0, 0], [0, 0, 1, 0], [0, 0, 0, 1]])\n",
    "Q2 = np.array([[1, 0, 0, 0], [0, 1, 0, 0], [0, 0, 0.6, 0.8], [0, 0, -0.8, 0.6]])\n",
    "print(Q1 @ A1 @ Q1.T @ Q2 @ A2 @Q2.T)\n",
    "print(Q1 @ Q2 @ A1 @ A2 @ Q2.T @ Q1.T)\n",
    "print(Q1 @ Q2)\n",
    "print(Q2 @ Q1)"
   ]
  }
 ],
 "metadata": {
  "kernelspec": {
   "display_name": "Python 3.10.4 64-bit",
   "language": "python",
   "name": "python3"
  },
  "language_info": {
   "codemirror_mode": {
    "name": "ipython",
    "version": 3
   },
   "file_extension": ".py",
   "mimetype": "text/x-python",
   "name": "python",
   "nbconvert_exporter": "python",
   "pygments_lexer": "ipython3",
   "version": "3.10.4"
  },
  "orig_nbformat": 4,
  "vscode": {
   "interpreter": {
    "hash": "41f2c36dba965539b3b5b1a452b2e4e0ddff6087df4c95f88099f95d32667815"
   }
  }
 },
 "nbformat": 4,
 "nbformat_minor": 2
}
